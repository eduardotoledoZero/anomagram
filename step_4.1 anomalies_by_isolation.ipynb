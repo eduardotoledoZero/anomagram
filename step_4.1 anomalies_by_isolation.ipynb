{
 "cells": [
  {
   "cell_type": "code",
   "execution_count": 1,
   "metadata": {},
   "outputs": [
    {
     "name": "stdout",
     "output_type": "stream",
     "text": [
      "Requirement already satisfied: pandas in c:\\users\\hp\\onedrive\\documents\\eduardo toledo\\miad\\final_project\\source\\.venv\\lib\\site-packages (2.2.1)\n",
      "Requirement already satisfied: unicode in c:\\users\\hp\\onedrive\\documents\\eduardo toledo\\miad\\final_project\\source\\.venv\\lib\\site-packages (2.9)\n",
      "Requirement already satisfied: matplotlib in c:\\users\\hp\\onedrive\\documents\\eduardo toledo\\miad\\final_project\\source\\.venv\\lib\\site-packages (3.8.3)\n",
      "Requirement already satisfied: seaborn in c:\\users\\hp\\onedrive\\documents\\eduardo toledo\\miad\\final_project\\source\\.venv\\lib\\site-packages (0.13.2)\n",
      "Requirement already satisfied: scikit-learn in c:\\users\\hp\\onedrive\\documents\\eduardo toledo\\miad\\final_project\\source\\.venv\\lib\\site-packages (1.4.1.post1)\n",
      "Requirement already satisfied: plotly in c:\\users\\hp\\onedrive\\documents\\eduardo toledo\\miad\\final_project\\source\\.venv\\lib\\site-packages (5.20.0)\n",
      "Requirement already satisfied: scipy in c:\\users\\hp\\onedrive\\documents\\eduardo toledo\\miad\\final_project\\source\\.venv\\lib\\site-packages (1.12.0)\n",
      "Requirement already satisfied: numpy<2,>=1.26.0 in c:\\users\\hp\\onedrive\\documents\\eduardo toledo\\miad\\final_project\\source\\.venv\\lib\\site-packages (from pandas) (1.26.4)\n",
      "Requirement already satisfied: python-dateutil>=2.8.2 in c:\\users\\hp\\onedrive\\documents\\eduardo toledo\\miad\\final_project\\source\\.venv\\lib\\site-packages (from pandas) (2.9.0.post0)\n",
      "Requirement already satisfied: pytz>=2020.1 in c:\\users\\hp\\onedrive\\documents\\eduardo toledo\\miad\\final_project\\source\\.venv\\lib\\site-packages (from pandas) (2024.1)\n",
      "Requirement already satisfied: tzdata>=2022.7 in c:\\users\\hp\\onedrive\\documents\\eduardo toledo\\miad\\final_project\\source\\.venv\\lib\\site-packages (from pandas) (2024.1)\n",
      "Requirement already satisfied: contourpy>=1.0.1 in c:\\users\\hp\\onedrive\\documents\\eduardo toledo\\miad\\final_project\\source\\.venv\\lib\\site-packages (from matplotlib) (1.2.0)\n",
      "Requirement already satisfied: cycler>=0.10 in c:\\users\\hp\\onedrive\\documents\\eduardo toledo\\miad\\final_project\\source\\.venv\\lib\\site-packages (from matplotlib) (0.12.1)\n",
      "Requirement already satisfied: fonttools>=4.22.0 in c:\\users\\hp\\onedrive\\documents\\eduardo toledo\\miad\\final_project\\source\\.venv\\lib\\site-packages (from matplotlib) (4.50.0)\n",
      "Requirement already satisfied: kiwisolver>=1.3.1 in c:\\users\\hp\\onedrive\\documents\\eduardo toledo\\miad\\final_project\\source\\.venv\\lib\\site-packages (from matplotlib) (1.4.5)\n",
      "Requirement already satisfied: packaging>=20.0 in c:\\users\\hp\\onedrive\\documents\\eduardo toledo\\miad\\final_project\\source\\.venv\\lib\\site-packages (from matplotlib) (24.0)\n",
      "Requirement already satisfied: pillow>=8 in c:\\users\\hp\\onedrive\\documents\\eduardo toledo\\miad\\final_project\\source\\.venv\\lib\\site-packages (from matplotlib) (10.2.0)\n",
      "Requirement already satisfied: pyparsing>=2.3.1 in c:\\users\\hp\\onedrive\\documents\\eduardo toledo\\miad\\final_project\\source\\.venv\\lib\\site-packages (from matplotlib) (3.1.2)\n",
      "Requirement already satisfied: joblib>=1.2.0 in c:\\users\\hp\\onedrive\\documents\\eduardo toledo\\miad\\final_project\\source\\.venv\\lib\\site-packages (from scikit-learn) (1.3.2)\n",
      "Requirement already satisfied: threadpoolctl>=2.0.0 in c:\\users\\hp\\onedrive\\documents\\eduardo toledo\\miad\\final_project\\source\\.venv\\lib\\site-packages (from scikit-learn) (3.4.0)\n",
      "Requirement already satisfied: tenacity>=6.2.0 in c:\\users\\hp\\onedrive\\documents\\eduardo toledo\\miad\\final_project\\source\\.venv\\lib\\site-packages (from plotly) (8.2.3)\n",
      "Requirement already satisfied: six>=1.5 in c:\\users\\hp\\onedrive\\documents\\eduardo toledo\\miad\\final_project\\source\\.venv\\lib\\site-packages (from python-dateutil>=2.8.2->pandas) (1.16.0)\n",
      "Note: you may need to restart the kernel to use updated packages.\n"
     ]
    },
    {
     "name": "stderr",
     "output_type": "stream",
     "text": [
      "WARNING: Skipping c:\\Users\\HP\\OneDrive\\Documents\\Eduardo Toledo\\MIAD\\final_project\\source\\.venv\\Lib\\site-packages\\~-format-5.10.3.dist-info due to invalid metadata entry 'name'\n",
      "WARNING: Skipping c:\\Users\\HP\\OneDrive\\Documents\\Eduardo Toledo\\MIAD\\final_project\\source\\.venv\\Lib\\site-packages\\~bformat-5.10.3.dist-info due to invalid metadata entry 'name'\n",
      "WARNING: Skipping c:\\Users\\HP\\OneDrive\\Documents\\Eduardo Toledo\\MIAD\\final_project\\source\\.venv\\Lib\\site-packages\\~~format-5.10.3.dist-info due to invalid metadata entry 'name'\n",
      "WARNING: Skipping c:\\Users\\HP\\OneDrive\\Documents\\Eduardo Toledo\\MIAD\\final_project\\source\\.venv\\Lib\\site-packages\\~-format-5.10.3.dist-info due to invalid metadata entry 'name'\n",
      "WARNING: Skipping c:\\Users\\HP\\OneDrive\\Documents\\Eduardo Toledo\\MIAD\\final_project\\source\\.venv\\Lib\\site-packages\\~bformat-5.10.3.dist-info due to invalid metadata entry 'name'\n",
      "WARNING: Skipping c:\\Users\\HP\\OneDrive\\Documents\\Eduardo Toledo\\MIAD\\final_project\\source\\.venv\\Lib\\site-packages\\~~format-5.10.3.dist-info due to invalid metadata entry 'name'\n",
      "WARNING: Skipping c:\\Users\\HP\\OneDrive\\Documents\\Eduardo Toledo\\MIAD\\final_project\\source\\.venv\\Lib\\site-packages\\~-format-5.10.3.dist-info due to invalid metadata entry 'name'\n",
      "WARNING: Skipping c:\\Users\\HP\\OneDrive\\Documents\\Eduardo Toledo\\MIAD\\final_project\\source\\.venv\\Lib\\site-packages\\~bformat-5.10.3.dist-info due to invalid metadata entry 'name'\n",
      "WARNING: Skipping c:\\Users\\HP\\OneDrive\\Documents\\Eduardo Toledo\\MIAD\\final_project\\source\\.venv\\Lib\\site-packages\\~~format-5.10.3.dist-info due to invalid metadata entry 'name'\n",
      "WARNING: Skipping c:\\Users\\HP\\OneDrive\\Documents\\Eduardo Toledo\\MIAD\\final_project\\source\\.venv\\Lib\\site-packages\\~-format-5.10.3.dist-info due to invalid metadata entry 'name'\n",
      "WARNING: Skipping c:\\Users\\HP\\OneDrive\\Documents\\Eduardo Toledo\\MIAD\\final_project\\source\\.venv\\Lib\\site-packages\\~bformat-5.10.3.dist-info due to invalid metadata entry 'name'\n",
      "WARNING: Skipping c:\\Users\\HP\\OneDrive\\Documents\\Eduardo Toledo\\MIAD\\final_project\\source\\.venv\\Lib\\site-packages\\~~format-5.10.3.dist-info due to invalid metadata entry 'name'\n"
     ]
    }
   ],
   "source": [
    "pip install pandas unicode matplotlib seaborn scikit-learn plotly scipy "
   ]
  },
  {
   "cell_type": "code",
   "execution_count": 24,
   "metadata": {},
   "outputs": [],
   "source": [
    "import pandas as pd\n",
    "pd.set_option(\"mode.copy_on_write\", True)"
   ]
  },
  {
   "cell_type": "markdown",
   "metadata": {},
   "source": [
    "# 1. Preparation for Isolation Forest"
   ]
  },
  {
   "cell_type": "code",
   "execution_count": 2,
   "metadata": {},
   "outputs": [
    {
     "name": "stderr",
     "output_type": "stream",
     "text": [
      "c:\\Users\\HP\\OneDrive\\Documents\\Eduardo Toledo\\MIAD\\final_project\\source\\.venv\\Lib\\site-packages\\joblib\\externals\\loky\\backend\\context.py:136: UserWarning: Could not find the number of physical cores for the following reason:\n",
      "found 0 physical cores < 1\n",
      "Returning the number of logical cores instead. You can silence this warning by setting LOKY_MAX_CPU_COUNT to the number of cores you want to use.\n",
      "  warnings.warn(\n",
      "  File \"c:\\Users\\HP\\OneDrive\\Documents\\Eduardo Toledo\\MIAD\\final_project\\source\\.venv\\Lib\\site-packages\\joblib\\externals\\loky\\backend\\context.py\", line 282, in _count_physical_cores\n",
      "    raise ValueError(f\"found {cpu_count_physical} physical cores < 1\")\n"
     ]
    }
   ],
   "source": [
    "from sklearn.cluster import KMeans\n",
    "from sklearn.preprocessing import StandardScaler\n",
    "import pandas as pd\n",
    "import numpy as np\n",
    "import matplotlib.pyplot as plt\n",
    "\n",
    "\n",
    "combined_df = pd.read_csv('../data/output/consumo_datamart_silver_sectorecon_ohe.csv')\n",
    "features_to_scale= ['Active_energy', 'Reactive_energy', 'Voltaje_FA', 'Voltaje_FC', 'Factor_Potencia']\n",
    "X = combined_df[features_to_scale]\n",
    "# Standardizing the features\n",
    "scaler = StandardScaler()\n",
    "X_scaled = scaler.fit_transform(X)\n",
    "\n",
    "optimal_k = 4  \n",
    "kmeans = KMeans(n_clusters=optimal_k, random_state=42)\n",
    "kmeans.fit_transform(X_scaled)\n",
    "\n",
    "labels = kmeans.labels_\n",
    "\n",
    "combined_df['Cluster'] = labels\n",
    "\n",
    "combined_df.head()\n",
    "\n",
    "output_filepath = '../data/output/consumo_datamart_gold.csv'\n",
    "combined_df.to_csv(output_filepath, index=False)"
   ]
  },
  {
   "cell_type": "markdown",
   "metadata": {},
   "source": [
    "# 2. Calibration of Contamination Factor"
   ]
  },
  {
   "cell_type": "code",
   "execution_count": 4,
   "metadata": {},
   "outputs": [
    {
     "name": "stderr",
     "output_type": "stream",
     "text": [
      "c:\\Users\\HP\\OneDrive\\Documents\\Eduardo Toledo\\MIAD\\final_project\\source\\.venv\\Lib\\site-packages\\sklearn\\model_selection\\_search.py:318: UserWarning: The total space of parameters 5 is smaller than n_iter=10. Running 5 iterations. For exhaustive searches, use GridSearchCV.\n",
      "  warnings.warn(\n"
     ]
    },
    {
     "name": "stdout",
     "output_type": "stream",
     "text": [
      "Best parameters: {'contamination': 0.05}\n",
      "Best silhouette score: 0.32\n"
     ]
    }
   ],
   "source": [
    "import numpy as np\n",
    "import pandas as pd\n",
    "from sklearn.svm import OneClassSVM\n",
    "from sklearn.preprocessing import StandardScaler\n",
    "from sklearn.metrics import silhouette_score, make_scorer\n",
    "from sklearn.model_selection import RandomizedSearchCV\n",
    "from sklearn.ensemble import IsolationForest\n",
    "\n",
    "def silhouette_scorer(estimator, X, y=None):\n",
    "    preds = estimator.fit_predict(X)\n",
    "    unique_labels = np.unique(preds)\n",
    "    if len(unique_labels) > 1:\n",
    "        score = silhouette_score(X, preds);\n",
    "        return score\n",
    "    else:\n",
    "        print(\"Unique labels:\", unique_labels)  \n",
    "        return -1  \n",
    "\n",
    "combined_df = pd.read_csv('../data/output/consumo_datamart_gold.csv')\n",
    "features = ['Active_energy', 'Reactive_energy', 'Voltaje_FA', 'Voltaje_FC', 'Factor_Potencia']\n",
    "time_features= ['Dia_Sin', 'Dia_Cos','Hora_Sin','Hora_Cos','Mes_Sin','Mes_Cos']\n",
    "final_features= features + time_features\n",
    "data = combined_df[final_features].copy()\n",
    "# Create Isolation Forest \n",
    "iso_forest = IsolationForest(random_state=42)\n",
    "param_grid = {\n",
    "    'contamination': [ 0.05, 0.1, 0.25,  0.4, 0.5 ],  # Proportion of outliers \n",
    "}\n",
    "# Create RandomizedSearch  \n",
    "random_search = RandomizedSearchCV(iso_forest, param_distributions=param_grid,\n",
    "                                   scoring=silhouette_scorer, cv=3, random_state=42)\n",
    "# Run random search\n",
    "random_search.fit(data[features]) \n",
    "\n",
    "print(\"Best parameters:\", random_search.best_params_)\n",
    "print(\"Best silhouette score: {:.2f}\".format(random_search.best_score_))\n",
    "\n",
    "\n"
   ]
  },
  {
   "cell_type": "code",
   "execution_count": 33,
   "metadata": {},
   "outputs": [],
   "source": [
    "import pandas as pd\n",
    "from sklearn.model_selection import train_test_split\n",
    "from sklearn.ensemble import IsolationForest\n",
    "\n",
    "def get_anomalies(df, contamination=0.05):\n",
    "    df= df.copy()\n",
    "       \n",
    "    \n",
    "    # Indices are preserved after the split\n",
    "    X = df\n",
    "    y = df.index  \n",
    "    \n",
    "    # Split the data into training and testing sets (80% training, 20% testing)\n",
    "    X_train, X_test, y_train, y_test = train_test_split(X, y, test_size=0.2, random_state=42)\n",
    "    \n",
    "    # Create and fit the Isolation Forest on the training data\n",
    "    iso_forest = IsolationForest(n_estimators=100, contamination=contamination, random_state=42)\n",
    "    iso_forest.fit(X_train)\n",
    "\n",
    "    # Predict anomalies on the training and testing data\n",
    "    train_preds = iso_forest.predict(X_train)\n",
    "    test_preds = iso_forest.predict(X_test)\n",
    "    \n",
    "    # Score anomalies on the training and testing \n",
    "    train_score = iso_forest.decision_function(X_train)\n",
    "    test_score = iso_forest.decision_function(X_test)\n",
    "        \n",
    "    # Calculate the percentage of anomalies detected in the training set\n",
    "    anomaly_count_train = (train_preds == -1).sum()  # Count the number of -1s in the predictions\n",
    "    total_train = len(train_preds)  # Total number of training data points\n",
    "    anomaly_percentage_train = (anomaly_count_train / total_train) * 100  # Calculate the percentage\n",
    "    print(f\"Percentage of anomalies detected in the training data: {anomaly_percentage_train:.3f}%\")\n",
    "\n",
    "    # Calculate the percentage of anomalies detected in the testing set\n",
    "    anomaly_count_test = (test_preds == -1).sum()  # Count the number of -1s in the predictions\n",
    "    total_test = len(test_preds)  # Total number of training data points\n",
    "    anomaly_percentage_test = (anomaly_count_test / total_test) * 100  # Calculate the percentage\n",
    "    print(f\"Percentage of anomalies detected in the test data: {anomaly_percentage_test:.3f}%\")\n",
    "\n",
    "    #  Predictions are added  back to the original DataFrame using the original indices\n",
    "    df.loc[y_train, 'Anomaly'] = train_preds\n",
    "    df.loc[y_train, 'Anomaly_Score'] = train_score\n",
    "    \n",
    "    df.loc[y_test, 'Anomaly'] = test_preds\n",
    "    df.loc[y_test, 'Anomaly_Score'] = test_score\n",
    "    \n",
    "       \n",
    "    return df\n",
    "\n"
   ]
  },
  {
   "cell_type": "markdown",
   "metadata": {},
   "source": [
    "# 3. Calculation of outliers/anomaly scores and Robustness in the global unidimensional perspective"
   ]
  },
  {
   "cell_type": "code",
   "execution_count": 4,
   "metadata": {},
   "outputs": [
    {
     "name": "stdout",
     "output_type": "stream",
     "text": [
      "Percentage of anomalies detected in the training data: 5.000%\n",
      "Percentage of anomalies detected in the test data: 4.943%\n",
      "Percentage of anomalies detected: 4.989%\n"
     ]
    }
   ],
   "source": [
    "import pandas as pd\n",
    "from sklearn.model_selection import train_test_split\n",
    "from sklearn.ensemble import IsolationForest\n",
    "\n",
    "\n",
    "combined_df = pd.read_csv('../data/output/consumo_datamart_gold.csv')\n",
    "features = ['Active_energy', 'Reactive_energy', 'Voltaje_FA', 'Voltaje_FC', 'Factor_Potencia']\n",
    "time_features= ['Dia_Sin', 'Dia_Cos','Hora_Sin','Hora_Cos','Mes_Sin','Mes_Cos']\n",
    "final_features= features + time_features\n",
    "combined_df['Anomaly']= pd.NA\n",
    "combined_df['Anomaly_Score_Global']= pd.NA\n",
    "data = combined_df[final_features]\n",
    "data[final_features + ['Anomaly', 'Anomaly_Score_Global']]= get_anomalies(data)\n",
    "combined_df.update(data[['Anomaly','Anomaly_Score_Global']])\n",
    "\n",
    "\n",
    "anomaly_percentage = combined_df[combined_df['Anomaly'] == -1].shape[0] / combined_df.shape[0] * 100\n",
    "print(f\"Percentage of anomalies detected: {anomaly_percentage:.3f}%\")\n",
    "\n",
    "combined_df.rename(columns={'Anomaly':'Anomaly_Global'},inplace=True)\n",
    "\n",
    "combined_df.to_csv('../data/output/consumo_datamart_gold.csv', index=False)\n"
   ]
  },
  {
   "cell_type": "code",
   "execution_count": 5,
   "metadata": {},
   "outputs": [
    {
     "data": {
      "text/html": [
       "<div>\n",
       "<style scoped>\n",
       "    .dataframe tbody tr th:only-of-type {\n",
       "        vertical-align: middle;\n",
       "    }\n",
       "\n",
       "    .dataframe tbody tr th {\n",
       "        vertical-align: top;\n",
       "    }\n",
       "\n",
       "    .dataframe thead th {\n",
       "        text-align: right;\n",
       "    }\n",
       "</style>\n",
       "<table border=\"1\" class=\"dataframe\">\n",
       "  <thead>\n",
       "    <tr style=\"text-align: right;\">\n",
       "      <th></th>\n",
       "      <th>ClienteId</th>\n",
       "      <th>Porc_sospechosos_global</th>\n",
       "    </tr>\n",
       "  </thead>\n",
       "  <tbody>\n",
       "    <tr>\n",
       "      <th>0</th>\n",
       "      <td>1</td>\n",
       "      <td>0.004100</td>\n",
       "    </tr>\n",
       "    <tr>\n",
       "      <th>1</th>\n",
       "      <td>2</td>\n",
       "      <td>0.106382</td>\n",
       "    </tr>\n",
       "    <tr>\n",
       "      <th>2</th>\n",
       "      <td>3</td>\n",
       "      <td>0.062146</td>\n",
       "    </tr>\n",
       "    <tr>\n",
       "      <th>3</th>\n",
       "      <td>4</td>\n",
       "      <td>0.036036</td>\n",
       "    </tr>\n",
       "    <tr>\n",
       "      <th>4</th>\n",
       "      <td>5</td>\n",
       "      <td>2.047796</td>\n",
       "    </tr>\n",
       "    <tr>\n",
       "      <th>5</th>\n",
       "      <td>6</td>\n",
       "      <td>0.067972</td>\n",
       "    </tr>\n",
       "    <tr>\n",
       "      <th>6</th>\n",
       "      <td>7</td>\n",
       "      <td>0.390786</td>\n",
       "    </tr>\n",
       "    <tr>\n",
       "      <th>7</th>\n",
       "      <td>8</td>\n",
       "      <td>0.193559</td>\n",
       "    </tr>\n",
       "    <tr>\n",
       "      <th>8</th>\n",
       "      <td>9</td>\n",
       "      <td>0.298430</td>\n",
       "    </tr>\n",
       "    <tr>\n",
       "      <th>9</th>\n",
       "      <td>10</td>\n",
       "      <td>0.591466</td>\n",
       "    </tr>\n",
       "    <tr>\n",
       "      <th>10</th>\n",
       "      <td>11</td>\n",
       "      <td>0.000000</td>\n",
       "    </tr>\n",
       "    <tr>\n",
       "      <th>11</th>\n",
       "      <td>12</td>\n",
       "      <td>0.022873</td>\n",
       "    </tr>\n",
       "    <tr>\n",
       "      <th>12</th>\n",
       "      <td>13</td>\n",
       "      <td>0.000000</td>\n",
       "    </tr>\n",
       "    <tr>\n",
       "      <th>13</th>\n",
       "      <td>14</td>\n",
       "      <td>0.000000</td>\n",
       "    </tr>\n",
       "    <tr>\n",
       "      <th>14</th>\n",
       "      <td>15</td>\n",
       "      <td>0.000000</td>\n",
       "    </tr>\n",
       "    <tr>\n",
       "      <th>15</th>\n",
       "      <td>16</td>\n",
       "      <td>0.014026</td>\n",
       "    </tr>\n",
       "    <tr>\n",
       "      <th>16</th>\n",
       "      <td>17</td>\n",
       "      <td>0.051141</td>\n",
       "    </tr>\n",
       "    <tr>\n",
       "      <th>17</th>\n",
       "      <td>18</td>\n",
       "      <td>0.139613</td>\n",
       "    </tr>\n",
       "    <tr>\n",
       "      <th>18</th>\n",
       "      <td>19</td>\n",
       "      <td>0.029562</td>\n",
       "    </tr>\n",
       "    <tr>\n",
       "      <th>19</th>\n",
       "      <td>20</td>\n",
       "      <td>0.876086</td>\n",
       "    </tr>\n",
       "    <tr>\n",
       "      <th>20</th>\n",
       "      <td>21</td>\n",
       "      <td>0.000000</td>\n",
       "    </tr>\n",
       "    <tr>\n",
       "      <th>21</th>\n",
       "      <td>22</td>\n",
       "      <td>0.000216</td>\n",
       "    </tr>\n",
       "    <tr>\n",
       "      <th>22</th>\n",
       "      <td>23</td>\n",
       "      <td>0.003884</td>\n",
       "    </tr>\n",
       "    <tr>\n",
       "      <th>23</th>\n",
       "      <td>24</td>\n",
       "      <td>0.000000</td>\n",
       "    </tr>\n",
       "    <tr>\n",
       "      <th>24</th>\n",
       "      <td>25</td>\n",
       "      <td>0.000432</td>\n",
       "    </tr>\n",
       "    <tr>\n",
       "      <th>25</th>\n",
       "      <td>26</td>\n",
       "      <td>0.004100</td>\n",
       "    </tr>\n",
       "    <tr>\n",
       "      <th>26</th>\n",
       "      <td>27</td>\n",
       "      <td>0.001726</td>\n",
       "    </tr>\n",
       "    <tr>\n",
       "      <th>27</th>\n",
       "      <td>28</td>\n",
       "      <td>0.000432</td>\n",
       "    </tr>\n",
       "    <tr>\n",
       "      <th>28</th>\n",
       "      <td>29</td>\n",
       "      <td>0.022873</td>\n",
       "    </tr>\n",
       "    <tr>\n",
       "      <th>29</th>\n",
       "      <td>30</td>\n",
       "      <td>0.022873</td>\n",
       "    </tr>\n",
       "  </tbody>\n",
       "</table>\n",
       "</div>"
      ],
      "text/plain": [
       "    ClienteId  Porc_sospechosos_global\n",
       "0           1                 0.004100\n",
       "1           2                 0.106382\n",
       "2           3                 0.062146\n",
       "3           4                 0.036036\n",
       "4           5                 2.047796\n",
       "5           6                 0.067972\n",
       "6           7                 0.390786\n",
       "7           8                 0.193559\n",
       "8           9                 0.298430\n",
       "9          10                 0.591466\n",
       "10         11                 0.000000\n",
       "11         12                 0.022873\n",
       "12         13                 0.000000\n",
       "13         14                 0.000000\n",
       "14         15                 0.000000\n",
       "15         16                 0.014026\n",
       "16         17                 0.051141\n",
       "17         18                 0.139613\n",
       "18         19                 0.029562\n",
       "19         20                 0.876086\n",
       "20         21                 0.000000\n",
       "21         22                 0.000216\n",
       "22         23                 0.003884\n",
       "23         24                 0.000000\n",
       "24         25                 0.000432\n",
       "25         26                 0.004100\n",
       "26         27                 0.001726\n",
       "27         28                 0.000432\n",
       "28         29                 0.022873\n",
       "29         30                 0.022873"
      ]
     },
     "execution_count": 5,
     "metadata": {},
     "output_type": "execute_result"
    }
   ],
   "source": [
    "\n",
    "# Group by 'ClienteId' and calculate the percentage of anomalies\n",
    "anomaly_percentage_global = combined_df.groupby('ClienteId')['Anomaly_Global'].apply(\n",
    "    lambda x: (x == -1.0).sum()*100/len(combined_df)\n",
    ").reset_index(name='Porc_sospechosos_global')\n",
    "\n",
    "anomaly_percentage_global"
   ]
  },
  {
   "cell_type": "markdown",
   "metadata": {},
   "source": [
    "# 4. Recalibration of contamination factor per sector"
   ]
  },
  {
   "cell_type": "code",
   "execution_count": 42,
   "metadata": {},
   "outputs": [
    {
     "name": "stdout",
     "output_type": "stream",
     "text": [
      "                                          ClienteId          Best Parameters  \\\n",
      "0           captacion_tratamiento_distribucion_agua   {'contamination': 0.1}   \n",
      "1                   cultivo_arboles_frutales_nueces   {'contamination': 0.1}   \n",
      "2            cultivo_frutos_nueces_arboles_arbustos  {'contamination': 0.25}   \n",
      "3                                cultivo_hortalizas  {'contamination': 0.05}   \n",
      "4      cultivo_hortalizas_melones_raices_tuberculos  {'contamination': 0.05}   \n",
      "5  elaboracion_cacao_chocolate_productos_confiteria  {'contamination': 0.05}   \n",
      "6         venta_mayor_metales_minerales_metaliferos  {'contamination': 0.05}   \n",
      "\n",
      "  Best Silhouette Score  \n",
      "0                  0.10  \n",
      "1                  0.13  \n",
      "2                  0.38  \n",
      "3                  0.27  \n",
      "4                  0.22  \n",
      "5                  0.62  \n",
      "6                  0.24  \n"
     ]
    }
   ],
   "source": [
    "import numpy as np\n",
    "import pandas as pd\n",
    "from sklearn.svm import OneClassSVM\n",
    "from sklearn.preprocessing import StandardScaler\n",
    "from sklearn.metrics import silhouette_score, make_scorer\n",
    "from sklearn.model_selection import RandomizedSearchCV\n",
    "from sklearn.ensemble import IsolationForest\n",
    "\n",
    "def silhouette_scorer(estimator, X, y=None):\n",
    "    preds = estimator.fit_predict(X)\n",
    "    unique_labels = np.unique(preds)\n",
    "    if len(unique_labels) > 1:\n",
    "        score = silhouette_score(X, preds)\n",
    "        return score\n",
    "    else:\n",
    "        print(\"Unique labels:\", unique_labels)  \n",
    "        return -1  \n",
    "\n",
    "combined_df = pd.read_csv('../data/output/consumo_datamart_gold.csv')\n",
    "features = ['Active_energy', 'Reactive_energy', 'Voltaje_FA', 'Voltaje_FC', 'Factor_Potencia']\n",
    "time_features = ['Dia_Sin', 'Dia_Cos', 'Hora_Sin', 'Hora_Cos', 'Mes_Sin', 'Mes_Cos']\n",
    "final_features = features + time_features\n",
    "sectors = sorted(list(combined_df['Sector_Economico'].unique()))\n",
    "\n",
    "\n",
    "results_df = pd.DataFrame(columns=['ClienteId', 'Best Parameters', 'Best Silhouette Score'])\n",
    "\n",
    "for sector in sectors:\n",
    "    data = combined_df[combined_df['Sector_Economico'] == sector].copy()\n",
    "\n",
    "    # Create Isolation Forest \n",
    "    iso_forest = IsolationForest(random_state=42)\n",
    "\n",
    "    param_grid = {\n",
    "        'contamination': [0.05, 0.1, 0.25, 0.4, 0.5],  \n",
    "    }\n",
    "\n",
    "    # Create RandomizedSearch \n",
    "    random_search = RandomizedSearchCV(iso_forest, param_distributions=param_grid,n_iter=5,\n",
    "                                       scoring=silhouette_scorer, cv=3, random_state=42)\n",
    "    # Perform random search\n",
    "    random_search.fit(data[features])\n",
    "\n",
    "    # Collecting the best parameters and the best score for each client\n",
    "    new_row = pd.DataFrame({\n",
    "        'sector': [sector],\n",
    "        'Best Parameters': [random_search.best_params_],\n",
    "        'Best Silhouette Score': [\"{:.2f}\".format(random_search.best_score_)]\n",
    "    })\n",
    "\n",
    "    # Append the results to the DataFrame\n",
    "    results_df = pd.concat([results_df, new_row], ignore_index=True)\n",
    "\n",
    "results_df.to_csv('../data/output/contamination_factor_sector_isoforest.csv', index=False)\n",
    "\n",
    "# Display the DataFrame after completing the search for all clients\n",
    "print(results_df)\n"
   ]
  },
  {
   "cell_type": "markdown",
   "metadata": {},
   "source": [
    "# 4.1 Calculation of outliers/anomaly scores and Robustness from  the lens of economical sector"
   ]
  },
  {
   "cell_type": "code",
   "execution_count": 43,
   "metadata": {},
   "outputs": [
    {
     "name": "stdout",
     "output_type": "stream",
     "text": [
      "Percentage of anomalies detected in the training data: 10.000%\n",
      "Percentage of anomalies detected in the test data: 10.169%\n",
      "Percentage of anomalies detected in the training data: 10.001%\n",
      "Percentage of anomalies detected in the test data: 9.898%\n",
      "Percentage of anomalies detected in the training data: 25.000%\n",
      "Percentage of anomalies detected in the test data: 24.759%\n",
      "Percentage of anomalies detected in the training data: 5.000%\n",
      "Percentage of anomalies detected in the test data: 4.762%\n",
      "Percentage of anomalies detected in the training data: 5.000%\n",
      "Percentage of anomalies detected in the test data: 4.929%\n",
      "Percentage of anomalies detected in the training data: 5.001%\n",
      "Percentage of anomalies detected in the test data: 4.974%\n",
      "Percentage of anomalies detected in the training data: 5.000%\n",
      "Percentage of anomalies detected in the test data: 5.020%\n"
     ]
    }
   ],
   "source": [
    "contamination_df = pd.read_csv('../data/output/contamination_factor_sector_isoforest.csv')\n",
    "results = []\n",
    "sectors = sorted(list(combined_df['Sector_Economico'].unique()))\n",
    "features = ['Active_energy', 'Reactive_energy', 'Voltaje_FA', 'Voltaje_FC', 'Factor_Potencia']\n",
    "time_features= ['Dia_Sin', 'Dia_Cos','Hora_Sin','Hora_Cos','Mes_Sin','Mes_Cos']\n",
    "final_features= features + time_features\n",
    "combined_df = pd.read_csv('../data/output/consumo_datamart_gold.csv')\n",
    "combined_df['Anomaly_Score_Sector'] = pd.NA\n",
    "combined_df['Anomaly'] = pd.NA\n",
    "anomaly_percentage_sector_consolidado= pd.DataFrame()\n",
    "for sector in sectors:\n",
    "    data_orig = combined_df[combined_df['Sector_Economico'] == sector]\n",
    "    data = data_orig[final_features]\n",
    "    dictionary = eval(contamination_df[contamination_df['sector'] == sector]['Best Parameters'].iloc[0])\n",
    "    data_orig[final_features + ['Anomaly','Anomaly_Score_Sector' ]]=get_anomalies(data, \n",
    "                                                                              contamination=dictionary['contamination'])\n",
    "    combined_df.update(data_orig[['Anomaly','Anomaly_Score_Sector']])\n",
    "    anomaly_percentage_sector = data_orig.groupby('ClienteId')['Anomaly'].apply(\n",
    "        lambda x: (x == -1.0).sum()*100/len(data_orig)\n",
    "    ).reset_index(name='Porc_sospechosos_sector')\n",
    "\n",
    "    anomaly_percentage_sector_consolidado = pd.concat([anomaly_percentage_sector_consolidado, \n",
    "                                                       anomaly_percentage_sector], ignore_index=True)\n",
    "\n",
    "\n",
    "combined_df.rename(columns={'Anomaly':'Anomaly_Sector'},inplace=True)\n",
    "\n",
    "combined_df.to_csv('../data/output/consumo_datamart_gold.csv', index=False)\n"
   ]
  },
  {
   "cell_type": "markdown",
   "metadata": {},
   "source": [
    "# 5. Recalibration of the contamination factor in the Cluster perspective. We want to validate that the calibrated contamination factor is still valid per cluster"
   ]
  },
  {
   "cell_type": "code",
   "execution_count": 15,
   "metadata": {},
   "outputs": [
    {
     "name": "stderr",
     "output_type": "stream",
     "text": [
      "c:\\Users\\HP\\OneDrive\\Documents\\Eduardo Toledo\\MIAD\\final_project\\source\\.venv\\Lib\\site-packages\\sklearn\\model_selection\\_search.py:318: UserWarning: The total space of parameters 5 is smaller than n_iter=10. Running 5 iterations. For exhaustive searches, use GridSearchCV.\n",
      "  warnings.warn(\n"
     ]
    },
    {
     "name": "stdout",
     "output_type": "stream",
     "text": [
      "Best parameters For Cluster 0: {'contamination': 0.05}\n",
      "Best silhouette score For Cluster 0: 0.43\n"
     ]
    },
    {
     "name": "stderr",
     "output_type": "stream",
     "text": [
      "c:\\Users\\HP\\OneDrive\\Documents\\Eduardo Toledo\\MIAD\\final_project\\source\\.venv\\Lib\\site-packages\\sklearn\\model_selection\\_search.py:318: UserWarning: The total space of parameters 5 is smaller than n_iter=10. Running 5 iterations. For exhaustive searches, use GridSearchCV.\n",
      "  warnings.warn(\n"
     ]
    },
    {
     "name": "stdout",
     "output_type": "stream",
     "text": [
      "Best parameters For Cluster 1: {'contamination': 0.05}\n",
      "Best silhouette score For Cluster 1: 0.41\n"
     ]
    },
    {
     "name": "stderr",
     "output_type": "stream",
     "text": [
      "c:\\Users\\HP\\OneDrive\\Documents\\Eduardo Toledo\\MIAD\\final_project\\source\\.venv\\Lib\\site-packages\\sklearn\\model_selection\\_search.py:318: UserWarning: The total space of parameters 5 is smaller than n_iter=10. Running 5 iterations. For exhaustive searches, use GridSearchCV.\n",
      "  warnings.warn(\n"
     ]
    },
    {
     "name": "stdout",
     "output_type": "stream",
     "text": [
      "Best parameters For Cluster 2: {'contamination': 0.05}\n",
      "Best silhouette score For Cluster 2: 0.41\n"
     ]
    },
    {
     "name": "stderr",
     "output_type": "stream",
     "text": [
      "c:\\Users\\HP\\OneDrive\\Documents\\Eduardo Toledo\\MIAD\\final_project\\source\\.venv\\Lib\\site-packages\\sklearn\\model_selection\\_search.py:318: UserWarning: The total space of parameters 5 is smaller than n_iter=10. Running 5 iterations. For exhaustive searches, use GridSearchCV.\n",
      "  warnings.warn(\n"
     ]
    },
    {
     "name": "stdout",
     "output_type": "stream",
     "text": [
      "Best parameters For Cluster 3: {'contamination': 0.05}\n",
      "Best silhouette score For Cluster 3: 0.27\n"
     ]
    }
   ],
   "source": [
    "import numpy as np\n",
    "import pandas as pd\n",
    "from sklearn.svm import OneClassSVM\n",
    "from sklearn.preprocessing import StandardScaler\n",
    "from sklearn.metrics import silhouette_score, make_scorer\n",
    "from sklearn.model_selection import RandomizedSearchCV\n",
    "from sklearn.ensemble import IsolationForest\n",
    "\n",
    "def silhouette_scorer(estimator, X, y=None):\n",
    "    preds = estimator.fit_predict(X)\n",
    "    unique_labels = np.unique(preds)\n",
    "    if len(unique_labels) > 1:\n",
    "        score = silhouette_score(X, preds);\n",
    "        return score\n",
    "    else:\n",
    "        print(\"Unique labels:\", unique_labels)  \n",
    "        return -1  \n",
    "\n",
    "\n",
    "combined_df = pd.read_csv('../data/output/consumo_datamart_gold.csv')\n",
    "features = ['Active_energy', 'Reactive_energy', 'Voltaje_FA', 'Voltaje_FC', 'Factor_Potencia']\n",
    "time_features= ['Dia_Sin', 'Dia_Cos','Hora_Sin','Hora_Cos','Mes_Sin','Mes_Cos']\n",
    "final_features= features + time_features\n",
    "\n",
    "for cluster in range(0,4):\n",
    "    data = combined_df[combined_df['Cluster']==cluster].copy()\n",
    "\n",
    "\n",
    "    # Create Isolation Forest \n",
    "    iso_forest = IsolationForest(random_state=42)\n",
    "\n",
    "\n",
    "    param_grid = {\n",
    "        'contamination': [ 0.05, 0.1, 0.25,  0.4, 0.5 ],  \n",
    "    }\n",
    "\n",
    "\n",
    "    # Create RandomizedSearch  \n",
    "    random_search = RandomizedSearchCV(iso_forest, param_distributions=param_grid,\n",
    "                                    scoring=silhouette_scorer, cv=3, random_state=42)\n",
    "    # Perform random search\n",
    "    random_search.fit(data[features]) \n",
    "\n",
    "    print(f\"Best parameters For Cluster {cluster}:\", random_search.best_params_)\n",
    "    print(f\"Best silhouette score For Cluster {cluster}:\", \"{:.2f}\".format(random_search.best_score_))\n",
    "\n",
    "\n"
   ]
  },
  {
   "cell_type": "markdown",
   "metadata": {},
   "source": [
    "# 6. Calculation of outliers/anomaly scores and Robustness from  the lens of the clusters"
   ]
  },
  {
   "cell_type": "code",
   "execution_count": 44,
   "metadata": {},
   "outputs": [
    {
     "name": "stdout",
     "output_type": "stream",
     "text": [
      "Percentage of anomalies detected in the training data: 5.002%\n",
      "Percentage of anomalies detected in the test data: 4.791%\n",
      "Percentage of anomalies detected in the training data: 5.000%\n",
      "Percentage of anomalies detected in the test data: 4.960%\n",
      "Percentage of anomalies detected in the training data: 5.000%\n",
      "Percentage of anomalies detected in the test data: 4.978%\n",
      "Percentage of anomalies detected in the training data: 5.001%\n",
      "Percentage of anomalies detected in the test data: 5.133%\n"
     ]
    }
   ],
   "source": [
    "results = []\n",
    "sectors = sorted(list(combined_df['Sector_Economico'].unique()))\n",
    "features = ['Active_energy', 'Reactive_energy', 'Voltaje_FA', 'Voltaje_FC', 'Factor_Potencia']\n",
    "time_features= ['Dia_Sin', 'Dia_Cos','Hora_Sin','Hora_Cos','Mes_Sin','Mes_Cos']\n",
    "final_features= features + time_features\n",
    "combined_df = pd.read_csv('../data/output/consumo_datamart_gold.csv')\n",
    "combined_df['Anomaly_Score_Cluster'] = pd.NA\n",
    "combined_df['Anomaly'] = pd.NA\n",
    "clusters = sorted(list(combined_df['Cluster'].unique()))\n",
    "anomaly_percentage_cluster_consolidado= pd.DataFrame()\n",
    "for cluster in clusters:\n",
    "    data_orig = combined_df[combined_df['Cluster'] == cluster]\n",
    "    data = data_orig[final_features]\n",
    "    data_orig[final_features + ['Anomaly','Anomaly_Score_Cluster']]=get_anomalies(data)\n",
    "    combined_df.update(data_orig[['Anomaly','Anomaly_Score_Cluster']])\n",
    "    anomaly_percentage_cluster = data_orig.groupby('ClienteId')['Anomaly'].apply(\n",
    "        lambda x: (x == -1.0).sum()*100/len(data_orig)\n",
    "    ).reset_index(name='Porc_sospechosos_cluster')\n",
    "    anomaly_percentage_cluster['Cluster']=cluster\n",
    "    \n",
    "  \n",
    "    # Concatenate DataFrames\n",
    "    anomaly_percentage_cluster_consolidado = pd.concat([anomaly_percentage_cluster_consolidado, \n",
    "                                                       anomaly_percentage_cluster], ignore_index=True)\n",
    "    \n",
    "combined_df.rename(columns={'Anomaly':'Anomaly_Cluster'},inplace=True)\n",
    "\n",
    "combined_df.to_csv('../data/output/consumo_datamart_gold.csv', index=False)\n",
    "\n",
    "\n",
    "\n",
    "\n"
   ]
  },
  {
   "cell_type": "code",
   "execution_count": 46,
   "metadata": {},
   "outputs": [],
   "source": [
    "merged_df = pd.merge(anomaly_percentage_global, \n",
    "                    anomaly_percentages_by_client, \n",
    "                     on='ClienteId', \n",
    "                     how='inner')\n",
    "merged_df = pd.merge(merged_df, \n",
    "                    anomaly_percentage_sector_consolidado, \n",
    "                     on='ClienteId', \n",
    "                     how='inner')\n",
    "merged_df = pd.merge(merged_df, \n",
    "                    anomaly_percentage_cluster_consolidado, \n",
    "                     on='ClienteId', \n",
    "                     how='inner')\n",
    "merged_df.to_csv('../data/output/porcentaje_anomalias_consolidado.csv', index=False)\n"
   ]
  },
  {
   "cell_type": "markdown",
   "metadata": {},
   "source": [
    "# 7. Example of Visualizations with PLotly Express"
   ]
  },
  {
   "cell_type": "code",
   "execution_count": 47,
   "metadata": {},
   "outputs": [
    {
     "data": {
      "application/vnd.plotly.v1+json": {
       "config": {
        "plotlyServerURL": "https://plot.ly"
       },
       "data": [
        {
         "alignmentgroup": "True",
         "customdata": [
          [
           18
          ],
          [
           20
          ],
          [
           19
          ],
          [
           16
          ],
          [
           17
          ],
          [
           10
          ],
          [
           9
          ],
          [
           7
          ],
          [
           8
          ],
          [
           6
          ],
          [
           12
          ],
          [
           15
          ],
          [
           14
          ],
          [
           11
          ],
          [
           23
          ],
          [
           24
          ],
          [
           22
          ],
          [
           25
          ],
          [
           21
          ],
          [
           13
          ],
          [
           5
          ],
          [
           3
          ],
          [
           2
          ],
          [
           4
          ],
          [
           1
          ],
          [
           29
          ],
          [
           28
          ],
          [
           27
          ],
          [
           30
          ],
          [
           26
          ]
         ],
         "hovertemplate": "<b>%{y}</b><br>Percentage: %{x}<br>Client ID: %{customdata[0]}",
         "legendgroup": "",
         "marker": {
          "color": [
           3.660512820512821,
           3.2482051282051283,
           1.3425641025641026,
           1.0307692307692309,
           0.7517948717948718,
           3.1085818810019816,
           2.746811645749708,
           1.9917687109394848,
           1.229612316447335,
           0.9034093796046948,
           15.7671066179912,
           6.852007862959843,
           1.727979032107086,
           0.6046990545726856,
           3.392717086834734,
           0.7753501400560224,
           0.472829131652661,
           0.1591036414565826,
           0.1523809523809524,
           4.985714285714286,
           3.142116762359636,
           0.8861338346628729,
           0.4684721304811747,
           0.3007977236929018,
           0.1981606625679589,
           1.3438458169075778,
           1.2632501095050372,
           1.1073149364870785,
           1.0197109067017085,
           0.26982041173894
          ],
          "coloraxis": "coloraxis",
          "pattern": {
           "shape": ""
          }
         },
         "name": "",
         "offsetgroup": "",
         "orientation": "h",
         "showlegend": false,
         "text": [
          3.660512820512821,
          3.2482051282051283,
          1.3425641025641026,
          1.0307692307692309,
          0.7517948717948718,
          3.1085818810019816,
          2.746811645749708,
          1.9917687109394848,
          1.229612316447335,
          0.9034093796046948,
          15.7671066179912,
          6.852007862959843,
          1.727979032107086,
          0.6046990545726856,
          3.392717086834734,
          0.7753501400560224,
          0.472829131652661,
          0.1591036414565826,
          0.1523809523809524,
          4.985714285714286,
          3.142116762359636,
          0.8861338346628729,
          0.4684721304811747,
          0.3007977236929018,
          0.1981606625679589,
          1.3438458169075778,
          1.2632501095050372,
          1.1073149364870785,
          1.0197109067017085,
          0.26982041173894
         ],
         "textposition": "auto",
         "type": "bar",
         "x": [
          3.660512820512821,
          3.2482051282051283,
          1.3425641025641026,
          1.0307692307692309,
          0.7517948717948718,
          3.1085818810019816,
          2.746811645749708,
          1.9917687109394848,
          1.229612316447335,
          0.9034093796046948,
          15.7671066179912,
          6.852007862959843,
          1.727979032107086,
          0.6046990545726856,
          3.392717086834734,
          0.7753501400560224,
          0.472829131652661,
          0.1591036414565826,
          0.1523809523809524,
          4.985714285714286,
          3.142116762359636,
          0.8861338346628729,
          0.4684721304811747,
          0.3007977236929018,
          0.1981606625679589,
          1.3438458169075778,
          1.2632501095050372,
          1.1073149364870785,
          1.0197109067017085,
          0.26982041173894
         ],
         "xaxis": "x",
         "y": [
          "captacion_tratamiento_distribucion_agua",
          "captacion_tratamiento_distribucion_agua",
          "captacion_tratamiento_distribucion_agua",
          "captacion_tratamiento_distribucion_agua",
          "captacion_tratamiento_distribucion_agua",
          "cultivo_arboles_frutales_nueces",
          "cultivo_arboles_frutales_nueces",
          "cultivo_arboles_frutales_nueces",
          "cultivo_arboles_frutales_nueces",
          "cultivo_arboles_frutales_nueces",
          "cultivo_frutos_nueces_arboles_arbustos",
          "cultivo_frutos_nueces_arboles_arbustos",
          "cultivo_frutos_nueces_arboles_arbustos",
          "cultivo_frutos_nueces_arboles_arbustos",
          "cultivo_hortalizas",
          "cultivo_hortalizas",
          "cultivo_hortalizas",
          "cultivo_hortalizas",
          "cultivo_hortalizas",
          "cultivo_hortalizas_melones_raices_tuberculos",
          "elaboracion_cacao_chocolate_productos_confiteria",
          "elaboracion_cacao_chocolate_productos_confiteria",
          "elaboracion_cacao_chocolate_productos_confiteria",
          "elaboracion_cacao_chocolate_productos_confiteria",
          "elaboracion_cacao_chocolate_productos_confiteria",
          "venta_mayor_metales_minerales_metaliferos",
          "venta_mayor_metales_minerales_metaliferos",
          "venta_mayor_metales_minerales_metaliferos",
          "venta_mayor_metales_minerales_metaliferos",
          "venta_mayor_metales_minerales_metaliferos"
         ],
         "yaxis": "y"
        }
       ],
       "layout": {
        "barmode": "relative",
        "coloraxis": {
         "colorbar": {
          "title": {
           "text": "Percentage of Anomalies"
          }
         },
         "colorscale": [
          [
           0,
           "#0d0887"
          ],
          [
           0.1111111111111111,
           "#46039f"
          ],
          [
           0.2222222222222222,
           "#7201a8"
          ],
          [
           0.3333333333333333,
           "#9c179e"
          ],
          [
           0.4444444444444444,
           "#bd3786"
          ],
          [
           0.5555555555555556,
           "#d8576b"
          ],
          [
           0.6666666666666666,
           "#ed7953"
          ],
          [
           0.7777777777777778,
           "#fb9f3a"
          ],
          [
           0.8888888888888888,
           "#fdca26"
          ],
          [
           1,
           "#f0f921"
          ]
         ]
        },
        "height": 600,
        "legend": {
         "tracegroupgap": 0
        },
        "template": {
         "data": {
          "bar": [
           {
            "error_x": {
             "color": "#2a3f5f"
            },
            "error_y": {
             "color": "#2a3f5f"
            },
            "marker": {
             "line": {
              "color": "white",
              "width": 0.5
             },
             "pattern": {
              "fillmode": "overlay",
              "size": 10,
              "solidity": 0.2
             }
            },
            "type": "bar"
           }
          ],
          "barpolar": [
           {
            "marker": {
             "line": {
              "color": "white",
              "width": 0.5
             },
             "pattern": {
              "fillmode": "overlay",
              "size": 10,
              "solidity": 0.2
             }
            },
            "type": "barpolar"
           }
          ],
          "carpet": [
           {
            "aaxis": {
             "endlinecolor": "#2a3f5f",
             "gridcolor": "#C8D4E3",
             "linecolor": "#C8D4E3",
             "minorgridcolor": "#C8D4E3",
             "startlinecolor": "#2a3f5f"
            },
            "baxis": {
             "endlinecolor": "#2a3f5f",
             "gridcolor": "#C8D4E3",
             "linecolor": "#C8D4E3",
             "minorgridcolor": "#C8D4E3",
             "startlinecolor": "#2a3f5f"
            },
            "type": "carpet"
           }
          ],
          "choropleth": [
           {
            "colorbar": {
             "outlinewidth": 0,
             "ticks": ""
            },
            "type": "choropleth"
           }
          ],
          "contour": [
           {
            "colorbar": {
             "outlinewidth": 0,
             "ticks": ""
            },
            "colorscale": [
             [
              0,
              "#0d0887"
             ],
             [
              0.1111111111111111,
              "#46039f"
             ],
             [
              0.2222222222222222,
              "#7201a8"
             ],
             [
              0.3333333333333333,
              "#9c179e"
             ],
             [
              0.4444444444444444,
              "#bd3786"
             ],
             [
              0.5555555555555556,
              "#d8576b"
             ],
             [
              0.6666666666666666,
              "#ed7953"
             ],
             [
              0.7777777777777778,
              "#fb9f3a"
             ],
             [
              0.8888888888888888,
              "#fdca26"
             ],
             [
              1,
              "#f0f921"
             ]
            ],
            "type": "contour"
           }
          ],
          "contourcarpet": [
           {
            "colorbar": {
             "outlinewidth": 0,
             "ticks": ""
            },
            "type": "contourcarpet"
           }
          ],
          "heatmap": [
           {
            "colorbar": {
             "outlinewidth": 0,
             "ticks": ""
            },
            "colorscale": [
             [
              0,
              "#0d0887"
             ],
             [
              0.1111111111111111,
              "#46039f"
             ],
             [
              0.2222222222222222,
              "#7201a8"
             ],
             [
              0.3333333333333333,
              "#9c179e"
             ],
             [
              0.4444444444444444,
              "#bd3786"
             ],
             [
              0.5555555555555556,
              "#d8576b"
             ],
             [
              0.6666666666666666,
              "#ed7953"
             ],
             [
              0.7777777777777778,
              "#fb9f3a"
             ],
             [
              0.8888888888888888,
              "#fdca26"
             ],
             [
              1,
              "#f0f921"
             ]
            ],
            "type": "heatmap"
           }
          ],
          "heatmapgl": [
           {
            "colorbar": {
             "outlinewidth": 0,
             "ticks": ""
            },
            "colorscale": [
             [
              0,
              "#0d0887"
             ],
             [
              0.1111111111111111,
              "#46039f"
             ],
             [
              0.2222222222222222,
              "#7201a8"
             ],
             [
              0.3333333333333333,
              "#9c179e"
             ],
             [
              0.4444444444444444,
              "#bd3786"
             ],
             [
              0.5555555555555556,
              "#d8576b"
             ],
             [
              0.6666666666666666,
              "#ed7953"
             ],
             [
              0.7777777777777778,
              "#fb9f3a"
             ],
             [
              0.8888888888888888,
              "#fdca26"
             ],
             [
              1,
              "#f0f921"
             ]
            ],
            "type": "heatmapgl"
           }
          ],
          "histogram": [
           {
            "marker": {
             "pattern": {
              "fillmode": "overlay",
              "size": 10,
              "solidity": 0.2
             }
            },
            "type": "histogram"
           }
          ],
          "histogram2d": [
           {
            "colorbar": {
             "outlinewidth": 0,
             "ticks": ""
            },
            "colorscale": [
             [
              0,
              "#0d0887"
             ],
             [
              0.1111111111111111,
              "#46039f"
             ],
             [
              0.2222222222222222,
              "#7201a8"
             ],
             [
              0.3333333333333333,
              "#9c179e"
             ],
             [
              0.4444444444444444,
              "#bd3786"
             ],
             [
              0.5555555555555556,
              "#d8576b"
             ],
             [
              0.6666666666666666,
              "#ed7953"
             ],
             [
              0.7777777777777778,
              "#fb9f3a"
             ],
             [
              0.8888888888888888,
              "#fdca26"
             ],
             [
              1,
              "#f0f921"
             ]
            ],
            "type": "histogram2d"
           }
          ],
          "histogram2dcontour": [
           {
            "colorbar": {
             "outlinewidth": 0,
             "ticks": ""
            },
            "colorscale": [
             [
              0,
              "#0d0887"
             ],
             [
              0.1111111111111111,
              "#46039f"
             ],
             [
              0.2222222222222222,
              "#7201a8"
             ],
             [
              0.3333333333333333,
              "#9c179e"
             ],
             [
              0.4444444444444444,
              "#bd3786"
             ],
             [
              0.5555555555555556,
              "#d8576b"
             ],
             [
              0.6666666666666666,
              "#ed7953"
             ],
             [
              0.7777777777777778,
              "#fb9f3a"
             ],
             [
              0.8888888888888888,
              "#fdca26"
             ],
             [
              1,
              "#f0f921"
             ]
            ],
            "type": "histogram2dcontour"
           }
          ],
          "mesh3d": [
           {
            "colorbar": {
             "outlinewidth": 0,
             "ticks": ""
            },
            "type": "mesh3d"
           }
          ],
          "parcoords": [
           {
            "line": {
             "colorbar": {
              "outlinewidth": 0,
              "ticks": ""
             }
            },
            "type": "parcoords"
           }
          ],
          "pie": [
           {
            "automargin": true,
            "type": "pie"
           }
          ],
          "scatter": [
           {
            "fillpattern": {
             "fillmode": "overlay",
             "size": 10,
             "solidity": 0.2
            },
            "type": "scatter"
           }
          ],
          "scatter3d": [
           {
            "line": {
             "colorbar": {
              "outlinewidth": 0,
              "ticks": ""
             }
            },
            "marker": {
             "colorbar": {
              "outlinewidth": 0,
              "ticks": ""
             }
            },
            "type": "scatter3d"
           }
          ],
          "scattercarpet": [
           {
            "marker": {
             "colorbar": {
              "outlinewidth": 0,
              "ticks": ""
             }
            },
            "type": "scattercarpet"
           }
          ],
          "scattergeo": [
           {
            "marker": {
             "colorbar": {
              "outlinewidth": 0,
              "ticks": ""
             }
            },
            "type": "scattergeo"
           }
          ],
          "scattergl": [
           {
            "marker": {
             "colorbar": {
              "outlinewidth": 0,
              "ticks": ""
             }
            },
            "type": "scattergl"
           }
          ],
          "scattermapbox": [
           {
            "marker": {
             "colorbar": {
              "outlinewidth": 0,
              "ticks": ""
             }
            },
            "type": "scattermapbox"
           }
          ],
          "scatterpolar": [
           {
            "marker": {
             "colorbar": {
              "outlinewidth": 0,
              "ticks": ""
             }
            },
            "type": "scatterpolar"
           }
          ],
          "scatterpolargl": [
           {
            "marker": {
             "colorbar": {
              "outlinewidth": 0,
              "ticks": ""
             }
            },
            "type": "scatterpolargl"
           }
          ],
          "scatterternary": [
           {
            "marker": {
             "colorbar": {
              "outlinewidth": 0,
              "ticks": ""
             }
            },
            "type": "scatterternary"
           }
          ],
          "surface": [
           {
            "colorbar": {
             "outlinewidth": 0,
             "ticks": ""
            },
            "colorscale": [
             [
              0,
              "#0d0887"
             ],
             [
              0.1111111111111111,
              "#46039f"
             ],
             [
              0.2222222222222222,
              "#7201a8"
             ],
             [
              0.3333333333333333,
              "#9c179e"
             ],
             [
              0.4444444444444444,
              "#bd3786"
             ],
             [
              0.5555555555555556,
              "#d8576b"
             ],
             [
              0.6666666666666666,
              "#ed7953"
             ],
             [
              0.7777777777777778,
              "#fb9f3a"
             ],
             [
              0.8888888888888888,
              "#fdca26"
             ],
             [
              1,
              "#f0f921"
             ]
            ],
            "type": "surface"
           }
          ],
          "table": [
           {
            "cells": {
             "fill": {
              "color": "#EBF0F8"
             },
             "line": {
              "color": "white"
             }
            },
            "header": {
             "fill": {
              "color": "#C8D4E3"
             },
             "line": {
              "color": "white"
             }
            },
            "type": "table"
           }
          ]
         },
         "layout": {
          "annotationdefaults": {
           "arrowcolor": "#2a3f5f",
           "arrowhead": 0,
           "arrowwidth": 1
          },
          "autotypenumbers": "strict",
          "coloraxis": {
           "colorbar": {
            "outlinewidth": 0,
            "ticks": ""
           }
          },
          "colorscale": {
           "diverging": [
            [
             0,
             "#8e0152"
            ],
            [
             0.1,
             "#c51b7d"
            ],
            [
             0.2,
             "#de77ae"
            ],
            [
             0.3,
             "#f1b6da"
            ],
            [
             0.4,
             "#fde0ef"
            ],
            [
             0.5,
             "#f7f7f7"
            ],
            [
             0.6,
             "#e6f5d0"
            ],
            [
             0.7,
             "#b8e186"
            ],
            [
             0.8,
             "#7fbc41"
            ],
            [
             0.9,
             "#4d9221"
            ],
            [
             1,
             "#276419"
            ]
           ],
           "sequential": [
            [
             0,
             "#0d0887"
            ],
            [
             0.1111111111111111,
             "#46039f"
            ],
            [
             0.2222222222222222,
             "#7201a8"
            ],
            [
             0.3333333333333333,
             "#9c179e"
            ],
            [
             0.4444444444444444,
             "#bd3786"
            ],
            [
             0.5555555555555556,
             "#d8576b"
            ],
            [
             0.6666666666666666,
             "#ed7953"
            ],
            [
             0.7777777777777778,
             "#fb9f3a"
            ],
            [
             0.8888888888888888,
             "#fdca26"
            ],
            [
             1,
             "#f0f921"
            ]
           ],
           "sequentialminus": [
            [
             0,
             "#0d0887"
            ],
            [
             0.1111111111111111,
             "#46039f"
            ],
            [
             0.2222222222222222,
             "#7201a8"
            ],
            [
             0.3333333333333333,
             "#9c179e"
            ],
            [
             0.4444444444444444,
             "#bd3786"
            ],
            [
             0.5555555555555556,
             "#d8576b"
            ],
            [
             0.6666666666666666,
             "#ed7953"
            ],
            [
             0.7777777777777778,
             "#fb9f3a"
            ],
            [
             0.8888888888888888,
             "#fdca26"
            ],
            [
             1,
             "#f0f921"
            ]
           ]
          },
          "colorway": [
           "#636efa",
           "#EF553B",
           "#00cc96",
           "#ab63fa",
           "#FFA15A",
           "#19d3f3",
           "#FF6692",
           "#B6E880",
           "#FF97FF",
           "#FECB52"
          ],
          "font": {
           "color": "#2a3f5f"
          },
          "geo": {
           "bgcolor": "white",
           "lakecolor": "white",
           "landcolor": "white",
           "showlakes": true,
           "showland": true,
           "subunitcolor": "#C8D4E3"
          },
          "hoverlabel": {
           "align": "left"
          },
          "hovermode": "closest",
          "mapbox": {
           "style": "light"
          },
          "paper_bgcolor": "white",
          "plot_bgcolor": "white",
          "polar": {
           "angularaxis": {
            "gridcolor": "#EBF0F8",
            "linecolor": "#EBF0F8",
            "ticks": ""
           },
           "bgcolor": "white",
           "radialaxis": {
            "gridcolor": "#EBF0F8",
            "linecolor": "#EBF0F8",
            "ticks": ""
           }
          },
          "scene": {
           "xaxis": {
            "backgroundcolor": "white",
            "gridcolor": "#DFE8F3",
            "gridwidth": 2,
            "linecolor": "#EBF0F8",
            "showbackground": true,
            "ticks": "",
            "zerolinecolor": "#EBF0F8"
           },
           "yaxis": {
            "backgroundcolor": "white",
            "gridcolor": "#DFE8F3",
            "gridwidth": 2,
            "linecolor": "#EBF0F8",
            "showbackground": true,
            "ticks": "",
            "zerolinecolor": "#EBF0F8"
           },
           "zaxis": {
            "backgroundcolor": "white",
            "gridcolor": "#DFE8F3",
            "gridwidth": 2,
            "linecolor": "#EBF0F8",
            "showbackground": true,
            "ticks": "",
            "zerolinecolor": "#EBF0F8"
           }
          },
          "shapedefaults": {
           "line": {
            "color": "#2a3f5f"
           }
          },
          "ternary": {
           "aaxis": {
            "gridcolor": "#DFE8F3",
            "linecolor": "#A2B1C6",
            "ticks": ""
           },
           "baxis": {
            "gridcolor": "#DFE8F3",
            "linecolor": "#A2B1C6",
            "ticks": ""
           },
           "bgcolor": "white",
           "caxis": {
            "gridcolor": "#DFE8F3",
            "linecolor": "#A2B1C6",
            "ticks": ""
           }
          },
          "title": {
           "x": 0.05
          },
          "xaxis": {
           "automargin": true,
           "gridcolor": "#EBF0F8",
           "linecolor": "#EBF0F8",
           "ticks": "",
           "title": {
            "standoff": 15
           },
           "zerolinecolor": "#EBF0F8",
           "zerolinewidth": 2
          },
          "yaxis": {
           "automargin": true,
           "gridcolor": "#EBF0F8",
           "linecolor": "#EBF0F8",
           "ticks": "",
           "title": {
            "standoff": 15
           },
           "zerolinecolor": "#EBF0F8",
           "zerolinewidth": 2
          }
         }
        },
        "title": {
         "text": "Top 5 Unique Client Anomaly Percentages by Economic Sector"
        },
        "uniformtext": {
         "mode": "hide"
        },
        "width": 800,
        "xaxis": {
         "anchor": "y",
         "domain": [
          0,
          1
         ],
         "title": {
          "text": "Anomaly Percentage"
         }
        },
        "yaxis": {
         "anchor": "x",
         "categoryorder": "total ascending",
         "domain": [
          0,
          1
         ],
         "title": {
          "text": "Economic Sector"
         }
        }
       }
      }
     },
     "metadata": {},
     "output_type": "display_data"
    }
   ],
   "source": [
    "import pandas as pd\n",
    "import plotly.express as px\n",
    "\n",
    "\n",
    "anomaly_percentage = pd.read_csv('../data/output/porcentaje_anomalias_consolidado.csv')\n",
    "\n",
    "# Sort the DataFrame first by 'Sector_Economico' and then by 'Porc_sospechosos_sector' in descending order\n",
    "sorted_df = anomaly_percentage.sort_values(by=['Sector_Economico', 'Porc_sospechosos_sector'], ascending=[True, False])\n",
    "\n",
    "\n",
    "unique_clients = sorted_df.drop_duplicates(subset=['Sector_Economico', 'ClienteId'])\n",
    "top_unique_clients = unique_clients.groupby('Sector_Economico').head(5)\n",
    "\n",
    "\n",
    "fig = px.bar(top_unique_clients, x='Porc_sospechosos_sector', y='Sector_Economico', orientation='h',\n",
    "             color='Porc_sospechosos_sector', text='Porc_sospechosos_sector',\n",
    "             title='Top 5 Unique Client Anomaly Percentages by Economic Sector',\n",
    "             labels={'Porc_sospechosos_sector': 'Percentage of Anomalies', 'Sector_Economico': 'Economic Sector'},\n",
    "             height=600, width=800, hover_data=['ClienteId'])\n",
    "\n",
    "\n",
    "fig.update_layout(yaxis={'categoryorder':'total ascending'}, xaxis_title='Anomaly Percentage',\n",
    "                  yaxis_title='Economic Sector', uniformtext_mode='hide', template='plotly_white')\n",
    "\n",
    "fig.update_traces(hovertemplate=\"<b>%{y}</b><br>Percentage: %{x}<br>Client ID: %{customdata[0]}\")\n",
    "\n",
    "\n",
    "fig.show() \n"
   ]
  },
  {
   "cell_type": "code",
   "execution_count": 48,
   "metadata": {},
   "outputs": [
    {
     "data": {
      "application/vnd.plotly.v1+json": {
       "config": {
        "plotlyServerURL": "https://plot.ly"
       },
       "data": [
        {
         "alignmentgroup": "True",
         "customdata": [
          [
           18
          ],
          [
           20
          ],
          [
           19
          ],
          [
           16
          ],
          [
           17
          ],
          [
           10
          ],
          [
           9
          ],
          [
           7
          ],
          [
           8
          ],
          [
           6
          ],
          [
           12
          ],
          [
           15
          ],
          [
           14
          ],
          [
           11
          ],
          [
           23
          ],
          [
           24
          ],
          [
           22
          ],
          [
           25
          ],
          [
           21
          ],
          [
           13
          ],
          [
           5
          ],
          [
           3
          ],
          [
           2
          ],
          [
           4
          ],
          [
           1
          ],
          [
           29
          ],
          [
           28
          ],
          [
           27
          ],
          [
           30
          ],
          [
           26
          ],
          [
           18
          ],
          [
           20
          ],
          [
           19
          ],
          [
           16
          ],
          [
           17
          ],
          [
           10
          ],
          [
           7
          ],
          [
           8
          ],
          [
           6
          ],
          [
           12
          ],
          [
           5
          ],
          [
           3
          ],
          [
           2
          ],
          [
           4
          ],
          [
           1
          ],
          [
           29
          ],
          [
           28
          ],
          [
           27
          ],
          [
           30
          ],
          [
           26
          ],
          [
           18
          ],
          [
           20
          ],
          [
           19
          ],
          [
           16
          ],
          [
           17
          ],
          [
           10
          ],
          [
           9
          ],
          [
           7
          ],
          [
           8
          ],
          [
           6
          ],
          [
           15
          ],
          [
           14
          ],
          [
           11
          ],
          [
           23
          ],
          [
           24
          ],
          [
           22
          ],
          [
           25
          ],
          [
           21
          ],
          [
           13
          ],
          [
           5
          ],
          [
           3
          ],
          [
           2
          ],
          [
           28
          ],
          [
           27
          ],
          [
           10
          ],
          [
           9
          ],
          [
           7
          ],
          [
           8
          ],
          [
           6
          ],
          [
           12
          ],
          [
           24
          ],
          [
           22
          ],
          [
           21
          ],
          [
           5
          ],
          [
           3
          ],
          [
           2
          ],
          [
           4
          ],
          [
           1
          ],
          [
           29
          ],
          [
           28
          ],
          [
           27
          ],
          [
           30
          ],
          [
           26
          ]
         ],
         "hovertemplate": "<b>%{y}</b><br>Cluster: %{marker.color}<br>Percentage: %{x}<br>Client ID: %{customdata[0]}",
         "legendgroup": "",
         "marker": {
          "color": [
           0,
           0,
           0,
           0,
           0,
           0,
           0,
           0,
           0,
           0,
           0,
           0,
           0,
           0,
           0,
           0,
           0,
           0,
           0,
           0,
           0,
           0,
           0,
           0,
           0,
           0,
           0,
           0,
           0,
           0,
           1,
           1,
           1,
           1,
           1,
           1,
           1,
           1,
           1,
           1,
           1,
           1,
           1,
           1,
           1,
           1,
           1,
           1,
           1,
           1,
           2,
           2,
           2,
           2,
           2,
           2,
           2,
           2,
           2,
           2,
           2,
           2,
           2,
           2,
           2,
           2,
           2,
           2,
           2,
           2,
           2,
           2,
           2,
           2,
           3,
           3,
           3,
           3,
           3,
           3,
           3,
           3,
           3,
           3,
           3,
           3,
           3,
           3,
           3,
           3,
           3,
           3,
           3
          ],
          "coloraxis": "coloraxis",
          "pattern": {
           "shape": ""
          }
         },
         "name": "",
         "offsetgroup": "",
         "orientation": "h",
         "showlegend": false,
         "text": [
          3.660512820512821,
          3.2482051282051283,
          1.3425641025641026,
          1.0307692307692309,
          0.7517948717948718,
          3.1085818810019816,
          2.746811645749708,
          1.9917687109394848,
          1.229612316447335,
          0.9034093796046948,
          15.7671066179912,
          6.852007862959843,
          1.727979032107086,
          0.6046990545726856,
          3.392717086834734,
          0.7753501400560224,
          0.472829131652661,
          0.1591036414565826,
          0.1523809523809524,
          4.985714285714286,
          3.142116762359636,
          0.8861338346628729,
          0.4684721304811747,
          0.3007977236929018,
          0.1981606625679589,
          1.3438458169075778,
          1.2632501095050372,
          1.1073149364870785,
          1.0197109067017085,
          0.26982041173894,
          3.660512820512821,
          3.2482051282051283,
          1.3425641025641026,
          1.0307692307692309,
          0.7517948717948718,
          3.1085818810019816,
          1.9917687109394848,
          1.229612316447335,
          0.9034093796046948,
          15.7671066179912,
          3.142116762359636,
          0.8861338346628729,
          0.4684721304811747,
          0.3007977236929018,
          0.1981606625679589,
          1.3438458169075778,
          1.2632501095050372,
          1.1073149364870785,
          1.0197109067017085,
          0.26982041173894,
          3.660512820512821,
          3.2482051282051283,
          1.3425641025641026,
          1.0307692307692309,
          0.7517948717948718,
          3.1085818810019816,
          2.746811645749708,
          1.9917687109394848,
          1.229612316447335,
          0.9034093796046948,
          6.852007862959843,
          1.727979032107086,
          0.6046990545726856,
          3.392717086834734,
          0.7753501400560224,
          0.472829131652661,
          0.1591036414565826,
          0.1523809523809524,
          4.985714285714286,
          3.142116762359636,
          0.8861338346628729,
          0.4684721304811747,
          1.2632501095050372,
          1.1073149364870785,
          3.1085818810019816,
          2.746811645749708,
          1.9917687109394848,
          1.229612316447335,
          0.9034093796046948,
          15.7671066179912,
          0.7753501400560224,
          0.472829131652661,
          0.1523809523809524,
          3.142116762359636,
          0.8861338346628729,
          0.4684721304811747,
          0.3007977236929018,
          0.1981606625679589,
          1.3438458169075778,
          1.2632501095050372,
          1.1073149364870785,
          1.0197109067017085,
          0.26982041173894
         ],
         "textposition": "auto",
         "type": "bar",
         "x": [
          3.660512820512821,
          3.2482051282051283,
          1.3425641025641026,
          1.0307692307692309,
          0.7517948717948718,
          3.1085818810019816,
          2.746811645749708,
          1.9917687109394848,
          1.229612316447335,
          0.9034093796046948,
          15.7671066179912,
          6.852007862959843,
          1.727979032107086,
          0.6046990545726856,
          3.392717086834734,
          0.7753501400560224,
          0.472829131652661,
          0.1591036414565826,
          0.1523809523809524,
          4.985714285714286,
          3.142116762359636,
          0.8861338346628729,
          0.4684721304811747,
          0.3007977236929018,
          0.1981606625679589,
          1.3438458169075778,
          1.2632501095050372,
          1.1073149364870785,
          1.0197109067017085,
          0.26982041173894,
          3.660512820512821,
          3.2482051282051283,
          1.3425641025641026,
          1.0307692307692309,
          0.7517948717948718,
          3.1085818810019816,
          1.9917687109394848,
          1.229612316447335,
          0.9034093796046948,
          15.7671066179912,
          3.142116762359636,
          0.8861338346628729,
          0.4684721304811747,
          0.3007977236929018,
          0.1981606625679589,
          1.3438458169075778,
          1.2632501095050372,
          1.1073149364870785,
          1.0197109067017085,
          0.26982041173894,
          3.660512820512821,
          3.2482051282051283,
          1.3425641025641026,
          1.0307692307692309,
          0.7517948717948718,
          3.1085818810019816,
          2.746811645749708,
          1.9917687109394848,
          1.229612316447335,
          0.9034093796046948,
          6.852007862959843,
          1.727979032107086,
          0.6046990545726856,
          3.392717086834734,
          0.7753501400560224,
          0.472829131652661,
          0.1591036414565826,
          0.1523809523809524,
          4.985714285714286,
          3.142116762359636,
          0.8861338346628729,
          0.4684721304811747,
          1.2632501095050372,
          1.1073149364870785,
          3.1085818810019816,
          2.746811645749708,
          1.9917687109394848,
          1.229612316447335,
          0.9034093796046948,
          15.7671066179912,
          0.7753501400560224,
          0.472829131652661,
          0.1523809523809524,
          3.142116762359636,
          0.8861338346628729,
          0.4684721304811747,
          0.3007977236929018,
          0.1981606625679589,
          1.3438458169075778,
          1.2632501095050372,
          1.1073149364870785,
          1.0197109067017085,
          0.26982041173894
         ],
         "xaxis": "x",
         "y": [
          "captacion_tratamiento_distribucion_agua",
          "captacion_tratamiento_distribucion_agua",
          "captacion_tratamiento_distribucion_agua",
          "captacion_tratamiento_distribucion_agua",
          "captacion_tratamiento_distribucion_agua",
          "cultivo_arboles_frutales_nueces",
          "cultivo_arboles_frutales_nueces",
          "cultivo_arboles_frutales_nueces",
          "cultivo_arboles_frutales_nueces",
          "cultivo_arboles_frutales_nueces",
          "cultivo_frutos_nueces_arboles_arbustos",
          "cultivo_frutos_nueces_arboles_arbustos",
          "cultivo_frutos_nueces_arboles_arbustos",
          "cultivo_frutos_nueces_arboles_arbustos",
          "cultivo_hortalizas",
          "cultivo_hortalizas",
          "cultivo_hortalizas",
          "cultivo_hortalizas",
          "cultivo_hortalizas",
          "cultivo_hortalizas_melones_raices_tuberculos",
          "elaboracion_cacao_chocolate_productos_confiteria",
          "elaboracion_cacao_chocolate_productos_confiteria",
          "elaboracion_cacao_chocolate_productos_confiteria",
          "elaboracion_cacao_chocolate_productos_confiteria",
          "elaboracion_cacao_chocolate_productos_confiteria",
          "venta_mayor_metales_minerales_metaliferos",
          "venta_mayor_metales_minerales_metaliferos",
          "venta_mayor_metales_minerales_metaliferos",
          "venta_mayor_metales_minerales_metaliferos",
          "venta_mayor_metales_minerales_metaliferos",
          "captacion_tratamiento_distribucion_agua",
          "captacion_tratamiento_distribucion_agua",
          "captacion_tratamiento_distribucion_agua",
          "captacion_tratamiento_distribucion_agua",
          "captacion_tratamiento_distribucion_agua",
          "cultivo_arboles_frutales_nueces",
          "cultivo_arboles_frutales_nueces",
          "cultivo_arboles_frutales_nueces",
          "cultivo_arboles_frutales_nueces",
          "cultivo_frutos_nueces_arboles_arbustos",
          "elaboracion_cacao_chocolate_productos_confiteria",
          "elaboracion_cacao_chocolate_productos_confiteria",
          "elaboracion_cacao_chocolate_productos_confiteria",
          "elaboracion_cacao_chocolate_productos_confiteria",
          "elaboracion_cacao_chocolate_productos_confiteria",
          "venta_mayor_metales_minerales_metaliferos",
          "venta_mayor_metales_minerales_metaliferos",
          "venta_mayor_metales_minerales_metaliferos",
          "venta_mayor_metales_minerales_metaliferos",
          "venta_mayor_metales_minerales_metaliferos",
          "captacion_tratamiento_distribucion_agua",
          "captacion_tratamiento_distribucion_agua",
          "captacion_tratamiento_distribucion_agua",
          "captacion_tratamiento_distribucion_agua",
          "captacion_tratamiento_distribucion_agua",
          "cultivo_arboles_frutales_nueces",
          "cultivo_arboles_frutales_nueces",
          "cultivo_arboles_frutales_nueces",
          "cultivo_arboles_frutales_nueces",
          "cultivo_arboles_frutales_nueces",
          "cultivo_frutos_nueces_arboles_arbustos",
          "cultivo_frutos_nueces_arboles_arbustos",
          "cultivo_frutos_nueces_arboles_arbustos",
          "cultivo_hortalizas",
          "cultivo_hortalizas",
          "cultivo_hortalizas",
          "cultivo_hortalizas",
          "cultivo_hortalizas",
          "cultivo_hortalizas_melones_raices_tuberculos",
          "elaboracion_cacao_chocolate_productos_confiteria",
          "elaboracion_cacao_chocolate_productos_confiteria",
          "elaboracion_cacao_chocolate_productos_confiteria",
          "venta_mayor_metales_minerales_metaliferos",
          "venta_mayor_metales_minerales_metaliferos",
          "cultivo_arboles_frutales_nueces",
          "cultivo_arboles_frutales_nueces",
          "cultivo_arboles_frutales_nueces",
          "cultivo_arboles_frutales_nueces",
          "cultivo_arboles_frutales_nueces",
          "cultivo_frutos_nueces_arboles_arbustos",
          "cultivo_hortalizas",
          "cultivo_hortalizas",
          "cultivo_hortalizas",
          "elaboracion_cacao_chocolate_productos_confiteria",
          "elaboracion_cacao_chocolate_productos_confiteria",
          "elaboracion_cacao_chocolate_productos_confiteria",
          "elaboracion_cacao_chocolate_productos_confiteria",
          "elaboracion_cacao_chocolate_productos_confiteria",
          "venta_mayor_metales_minerales_metaliferos",
          "venta_mayor_metales_minerales_metaliferos",
          "venta_mayor_metales_minerales_metaliferos",
          "venta_mayor_metales_minerales_metaliferos",
          "venta_mayor_metales_minerales_metaliferos"
         ],
         "yaxis": "y"
        }
       ],
       "layout": {
        "barmode": "relative",
        "coloraxis": {
         "colorbar": {
          "title": {
           "text": "Cluster"
          }
         },
         "colorscale": [
          [
           0,
           "#0d0887"
          ],
          [
           0.1111111111111111,
           "#46039f"
          ],
          [
           0.2222222222222222,
           "#7201a8"
          ],
          [
           0.3333333333333333,
           "#9c179e"
          ],
          [
           0.4444444444444444,
           "#bd3786"
          ],
          [
           0.5555555555555556,
           "#d8576b"
          ],
          [
           0.6666666666666666,
           "#ed7953"
          ],
          [
           0.7777777777777778,
           "#fb9f3a"
          ],
          [
           0.8888888888888888,
           "#fdca26"
          ],
          [
           1,
           "#f0f921"
          ]
         ]
        },
        "height": 600,
        "legend": {
         "tracegroupgap": 0
        },
        "template": {
         "data": {
          "bar": [
           {
            "error_x": {
             "color": "#2a3f5f"
            },
            "error_y": {
             "color": "#2a3f5f"
            },
            "marker": {
             "line": {
              "color": "white",
              "width": 0.5
             },
             "pattern": {
              "fillmode": "overlay",
              "size": 10,
              "solidity": 0.2
             }
            },
            "type": "bar"
           }
          ],
          "barpolar": [
           {
            "marker": {
             "line": {
              "color": "white",
              "width": 0.5
             },
             "pattern": {
              "fillmode": "overlay",
              "size": 10,
              "solidity": 0.2
             }
            },
            "type": "barpolar"
           }
          ],
          "carpet": [
           {
            "aaxis": {
             "endlinecolor": "#2a3f5f",
             "gridcolor": "#C8D4E3",
             "linecolor": "#C8D4E3",
             "minorgridcolor": "#C8D4E3",
             "startlinecolor": "#2a3f5f"
            },
            "baxis": {
             "endlinecolor": "#2a3f5f",
             "gridcolor": "#C8D4E3",
             "linecolor": "#C8D4E3",
             "minorgridcolor": "#C8D4E3",
             "startlinecolor": "#2a3f5f"
            },
            "type": "carpet"
           }
          ],
          "choropleth": [
           {
            "colorbar": {
             "outlinewidth": 0,
             "ticks": ""
            },
            "type": "choropleth"
           }
          ],
          "contour": [
           {
            "colorbar": {
             "outlinewidth": 0,
             "ticks": ""
            },
            "colorscale": [
             [
              0,
              "#0d0887"
             ],
             [
              0.1111111111111111,
              "#46039f"
             ],
             [
              0.2222222222222222,
              "#7201a8"
             ],
             [
              0.3333333333333333,
              "#9c179e"
             ],
             [
              0.4444444444444444,
              "#bd3786"
             ],
             [
              0.5555555555555556,
              "#d8576b"
             ],
             [
              0.6666666666666666,
              "#ed7953"
             ],
             [
              0.7777777777777778,
              "#fb9f3a"
             ],
             [
              0.8888888888888888,
              "#fdca26"
             ],
             [
              1,
              "#f0f921"
             ]
            ],
            "type": "contour"
           }
          ],
          "contourcarpet": [
           {
            "colorbar": {
             "outlinewidth": 0,
             "ticks": ""
            },
            "type": "contourcarpet"
           }
          ],
          "heatmap": [
           {
            "colorbar": {
             "outlinewidth": 0,
             "ticks": ""
            },
            "colorscale": [
             [
              0,
              "#0d0887"
             ],
             [
              0.1111111111111111,
              "#46039f"
             ],
             [
              0.2222222222222222,
              "#7201a8"
             ],
             [
              0.3333333333333333,
              "#9c179e"
             ],
             [
              0.4444444444444444,
              "#bd3786"
             ],
             [
              0.5555555555555556,
              "#d8576b"
             ],
             [
              0.6666666666666666,
              "#ed7953"
             ],
             [
              0.7777777777777778,
              "#fb9f3a"
             ],
             [
              0.8888888888888888,
              "#fdca26"
             ],
             [
              1,
              "#f0f921"
             ]
            ],
            "type": "heatmap"
           }
          ],
          "heatmapgl": [
           {
            "colorbar": {
             "outlinewidth": 0,
             "ticks": ""
            },
            "colorscale": [
             [
              0,
              "#0d0887"
             ],
             [
              0.1111111111111111,
              "#46039f"
             ],
             [
              0.2222222222222222,
              "#7201a8"
             ],
             [
              0.3333333333333333,
              "#9c179e"
             ],
             [
              0.4444444444444444,
              "#bd3786"
             ],
             [
              0.5555555555555556,
              "#d8576b"
             ],
             [
              0.6666666666666666,
              "#ed7953"
             ],
             [
              0.7777777777777778,
              "#fb9f3a"
             ],
             [
              0.8888888888888888,
              "#fdca26"
             ],
             [
              1,
              "#f0f921"
             ]
            ],
            "type": "heatmapgl"
           }
          ],
          "histogram": [
           {
            "marker": {
             "pattern": {
              "fillmode": "overlay",
              "size": 10,
              "solidity": 0.2
             }
            },
            "type": "histogram"
           }
          ],
          "histogram2d": [
           {
            "colorbar": {
             "outlinewidth": 0,
             "ticks": ""
            },
            "colorscale": [
             [
              0,
              "#0d0887"
             ],
             [
              0.1111111111111111,
              "#46039f"
             ],
             [
              0.2222222222222222,
              "#7201a8"
             ],
             [
              0.3333333333333333,
              "#9c179e"
             ],
             [
              0.4444444444444444,
              "#bd3786"
             ],
             [
              0.5555555555555556,
              "#d8576b"
             ],
             [
              0.6666666666666666,
              "#ed7953"
             ],
             [
              0.7777777777777778,
              "#fb9f3a"
             ],
             [
              0.8888888888888888,
              "#fdca26"
             ],
             [
              1,
              "#f0f921"
             ]
            ],
            "type": "histogram2d"
           }
          ],
          "histogram2dcontour": [
           {
            "colorbar": {
             "outlinewidth": 0,
             "ticks": ""
            },
            "colorscale": [
             [
              0,
              "#0d0887"
             ],
             [
              0.1111111111111111,
              "#46039f"
             ],
             [
              0.2222222222222222,
              "#7201a8"
             ],
             [
              0.3333333333333333,
              "#9c179e"
             ],
             [
              0.4444444444444444,
              "#bd3786"
             ],
             [
              0.5555555555555556,
              "#d8576b"
             ],
             [
              0.6666666666666666,
              "#ed7953"
             ],
             [
              0.7777777777777778,
              "#fb9f3a"
             ],
             [
              0.8888888888888888,
              "#fdca26"
             ],
             [
              1,
              "#f0f921"
             ]
            ],
            "type": "histogram2dcontour"
           }
          ],
          "mesh3d": [
           {
            "colorbar": {
             "outlinewidth": 0,
             "ticks": ""
            },
            "type": "mesh3d"
           }
          ],
          "parcoords": [
           {
            "line": {
             "colorbar": {
              "outlinewidth": 0,
              "ticks": ""
             }
            },
            "type": "parcoords"
           }
          ],
          "pie": [
           {
            "automargin": true,
            "type": "pie"
           }
          ],
          "scatter": [
           {
            "fillpattern": {
             "fillmode": "overlay",
             "size": 10,
             "solidity": 0.2
            },
            "type": "scatter"
           }
          ],
          "scatter3d": [
           {
            "line": {
             "colorbar": {
              "outlinewidth": 0,
              "ticks": ""
             }
            },
            "marker": {
             "colorbar": {
              "outlinewidth": 0,
              "ticks": ""
             }
            },
            "type": "scatter3d"
           }
          ],
          "scattercarpet": [
           {
            "marker": {
             "colorbar": {
              "outlinewidth": 0,
              "ticks": ""
             }
            },
            "type": "scattercarpet"
           }
          ],
          "scattergeo": [
           {
            "marker": {
             "colorbar": {
              "outlinewidth": 0,
              "ticks": ""
             }
            },
            "type": "scattergeo"
           }
          ],
          "scattergl": [
           {
            "marker": {
             "colorbar": {
              "outlinewidth": 0,
              "ticks": ""
             }
            },
            "type": "scattergl"
           }
          ],
          "scattermapbox": [
           {
            "marker": {
             "colorbar": {
              "outlinewidth": 0,
              "ticks": ""
             }
            },
            "type": "scattermapbox"
           }
          ],
          "scatterpolar": [
           {
            "marker": {
             "colorbar": {
              "outlinewidth": 0,
              "ticks": ""
             }
            },
            "type": "scatterpolar"
           }
          ],
          "scatterpolargl": [
           {
            "marker": {
             "colorbar": {
              "outlinewidth": 0,
              "ticks": ""
             }
            },
            "type": "scatterpolargl"
           }
          ],
          "scatterternary": [
           {
            "marker": {
             "colorbar": {
              "outlinewidth": 0,
              "ticks": ""
             }
            },
            "type": "scatterternary"
           }
          ],
          "surface": [
           {
            "colorbar": {
             "outlinewidth": 0,
             "ticks": ""
            },
            "colorscale": [
             [
              0,
              "#0d0887"
             ],
             [
              0.1111111111111111,
              "#46039f"
             ],
             [
              0.2222222222222222,
              "#7201a8"
             ],
             [
              0.3333333333333333,
              "#9c179e"
             ],
             [
              0.4444444444444444,
              "#bd3786"
             ],
             [
              0.5555555555555556,
              "#d8576b"
             ],
             [
              0.6666666666666666,
              "#ed7953"
             ],
             [
              0.7777777777777778,
              "#fb9f3a"
             ],
             [
              0.8888888888888888,
              "#fdca26"
             ],
             [
              1,
              "#f0f921"
             ]
            ],
            "type": "surface"
           }
          ],
          "table": [
           {
            "cells": {
             "fill": {
              "color": "#EBF0F8"
             },
             "line": {
              "color": "white"
             }
            },
            "header": {
             "fill": {
              "color": "#C8D4E3"
             },
             "line": {
              "color": "white"
             }
            },
            "type": "table"
           }
          ]
         },
         "layout": {
          "annotationdefaults": {
           "arrowcolor": "#2a3f5f",
           "arrowhead": 0,
           "arrowwidth": 1
          },
          "autotypenumbers": "strict",
          "coloraxis": {
           "colorbar": {
            "outlinewidth": 0,
            "ticks": ""
           }
          },
          "colorscale": {
           "diverging": [
            [
             0,
             "#8e0152"
            ],
            [
             0.1,
             "#c51b7d"
            ],
            [
             0.2,
             "#de77ae"
            ],
            [
             0.3,
             "#f1b6da"
            ],
            [
             0.4,
             "#fde0ef"
            ],
            [
             0.5,
             "#f7f7f7"
            ],
            [
             0.6,
             "#e6f5d0"
            ],
            [
             0.7,
             "#b8e186"
            ],
            [
             0.8,
             "#7fbc41"
            ],
            [
             0.9,
             "#4d9221"
            ],
            [
             1,
             "#276419"
            ]
           ],
           "sequential": [
            [
             0,
             "#0d0887"
            ],
            [
             0.1111111111111111,
             "#46039f"
            ],
            [
             0.2222222222222222,
             "#7201a8"
            ],
            [
             0.3333333333333333,
             "#9c179e"
            ],
            [
             0.4444444444444444,
             "#bd3786"
            ],
            [
             0.5555555555555556,
             "#d8576b"
            ],
            [
             0.6666666666666666,
             "#ed7953"
            ],
            [
             0.7777777777777778,
             "#fb9f3a"
            ],
            [
             0.8888888888888888,
             "#fdca26"
            ],
            [
             1,
             "#f0f921"
            ]
           ],
           "sequentialminus": [
            [
             0,
             "#0d0887"
            ],
            [
             0.1111111111111111,
             "#46039f"
            ],
            [
             0.2222222222222222,
             "#7201a8"
            ],
            [
             0.3333333333333333,
             "#9c179e"
            ],
            [
             0.4444444444444444,
             "#bd3786"
            ],
            [
             0.5555555555555556,
             "#d8576b"
            ],
            [
             0.6666666666666666,
             "#ed7953"
            ],
            [
             0.7777777777777778,
             "#fb9f3a"
            ],
            [
             0.8888888888888888,
             "#fdca26"
            ],
            [
             1,
             "#f0f921"
            ]
           ]
          },
          "colorway": [
           "#636efa",
           "#EF553B",
           "#00cc96",
           "#ab63fa",
           "#FFA15A",
           "#19d3f3",
           "#FF6692",
           "#B6E880",
           "#FF97FF",
           "#FECB52"
          ],
          "font": {
           "color": "#2a3f5f"
          },
          "geo": {
           "bgcolor": "white",
           "lakecolor": "white",
           "landcolor": "white",
           "showlakes": true,
           "showland": true,
           "subunitcolor": "#C8D4E3"
          },
          "hoverlabel": {
           "align": "left"
          },
          "hovermode": "closest",
          "mapbox": {
           "style": "light"
          },
          "paper_bgcolor": "white",
          "plot_bgcolor": "white",
          "polar": {
           "angularaxis": {
            "gridcolor": "#EBF0F8",
            "linecolor": "#EBF0F8",
            "ticks": ""
           },
           "bgcolor": "white",
           "radialaxis": {
            "gridcolor": "#EBF0F8",
            "linecolor": "#EBF0F8",
            "ticks": ""
           }
          },
          "scene": {
           "xaxis": {
            "backgroundcolor": "white",
            "gridcolor": "#DFE8F3",
            "gridwidth": 2,
            "linecolor": "#EBF0F8",
            "showbackground": true,
            "ticks": "",
            "zerolinecolor": "#EBF0F8"
           },
           "yaxis": {
            "backgroundcolor": "white",
            "gridcolor": "#DFE8F3",
            "gridwidth": 2,
            "linecolor": "#EBF0F8",
            "showbackground": true,
            "ticks": "",
            "zerolinecolor": "#EBF0F8"
           },
           "zaxis": {
            "backgroundcolor": "white",
            "gridcolor": "#DFE8F3",
            "gridwidth": 2,
            "linecolor": "#EBF0F8",
            "showbackground": true,
            "ticks": "",
            "zerolinecolor": "#EBF0F8"
           }
          },
          "shapedefaults": {
           "line": {
            "color": "#2a3f5f"
           }
          },
          "ternary": {
           "aaxis": {
            "gridcolor": "#DFE8F3",
            "linecolor": "#A2B1C6",
            "ticks": ""
           },
           "baxis": {
            "gridcolor": "#DFE8F3",
            "linecolor": "#A2B1C6",
            "ticks": ""
           },
           "bgcolor": "white",
           "caxis": {
            "gridcolor": "#DFE8F3",
            "linecolor": "#A2B1C6",
            "ticks": ""
           }
          },
          "title": {
           "x": 0.05
          },
          "xaxis": {
           "automargin": true,
           "gridcolor": "#EBF0F8",
           "linecolor": "#EBF0F8",
           "ticks": "",
           "title": {
            "standoff": 15
           },
           "zerolinecolor": "#EBF0F8",
           "zerolinewidth": 2
          },
          "yaxis": {
           "automargin": true,
           "gridcolor": "#EBF0F8",
           "linecolor": "#EBF0F8",
           "ticks": "",
           "title": {
            "standoff": 15
           },
           "zerolinecolor": "#EBF0F8",
           "zerolinewidth": 2
          }
         }
        },
        "title": {
         "text": "Top 5 Unique Client Anomaly Percentages by Economic Sector and Cluster"
        },
        "uniformtext": {
         "mode": "hide"
        },
        "width": 800,
        "xaxis": {
         "anchor": "y",
         "domain": [
          0,
          1
         ],
         "title": {
          "text": "Anomaly Percentage"
         }
        },
        "yaxis": {
         "anchor": "x",
         "categoryorder": "total ascending",
         "domain": [
          0,
          1
         ],
         "title": {
          "text": "Economic Sector"
         }
        }
       }
      }
     },
     "metadata": {},
     "output_type": "display_data"
    }
   ],
   "source": [
    "import pandas as pd\n",
    "import plotly.express as px\n",
    "\n",
    "\n",
    "anomaly_percentage = pd.read_csv('../data/output/porcentaje_anomalias_consolidado.csv')\n",
    "\n",
    "# Sort the DataFrame first by 'Cluster', 'Sector_Economico', and then by 'Porc_sospechosos_sector' in descending order\n",
    "sorted_df = anomaly_percentage.sort_values(by=['Cluster', 'Sector_Economico', 'Porc_sospechosos_sector'], ascending=[True, True, False])\n",
    "\n",
    "\n",
    "unique_clients = sorted_df.drop_duplicates(subset=['Cluster', 'Sector_Economico', 'ClienteId'])\n",
    "top_unique_clients = unique_clients.groupby(['Cluster', 'Sector_Economico']).head(5)\n",
    "\n",
    "\n",
    "fig = px.bar(top_unique_clients, x='Porc_sospechosos_sector', y='Sector_Economico', orientation='h',\n",
    "             color='Cluster', text='Porc_sospechosos_sector',\n",
    "             title='Top 5 Unique Client Anomaly Percentages by Economic Sector and Cluster',\n",
    "             labels={'Porc_sospechosos_sector': 'Percentage of Anomalies', 'Sector_Economico': 'Economic Sector', 'Cluster': 'Cluster'},\n",
    "             height=600, width=800, hover_data=['ClienteId'])\n",
    "\n",
    "fig.update_layout(yaxis={'categoryorder':'total ascending'}, xaxis_title='Anomaly Percentage',\n",
    "                  yaxis_title='Economic Sector', uniformtext_mode='hide', template='plotly_white')\n",
    "\n",
    "\n",
    "fig.update_traces(hovertemplate=\"<b>%{y}</b><br>Cluster: %{marker.color}<br>Percentage: %{x}<br>Client ID: %{customdata[0]}\")\n",
    "\n",
    "\n",
    "fig.show()\n"
   ]
  },
  {
   "cell_type": "markdown",
   "metadata": {},
   "source": [
    "# 8. Distribution of anomaly scores for each perspective"
   ]
  },
  {
   "cell_type": "code",
   "execution_count": 51,
   "metadata": {},
   "outputs": [
    {
     "data": {
      "image/png": "[encoded data removed]",
      "text/plain": [
       "<Figure size 1000x600 with 1 Axes>"
      ]
     },
     "metadata": {},
     "output_type": "display_data"
    },
    {
     "data": {
      "image/png": "[encoded data removed]",
      "text/plain": [
       "<Figure size 1000x600 with 1 Axes>"
      ]
     },
     "metadata": {},
     "output_type": "display_data"
    },
    {
     "data": {
      "image/png": "[encoded data removed]",
      "text/plain": [
       "<Figure size 1000x600 with 1 Axes>"
      ]
     },
     "metadata": {},
     "output_type": "display_data"
    },
    {
     "data": {
      "image/png": "[encoded data removed]",
      "text/plain": [
       "<Figure size 1000x600 with 1 Axes>"
      ]
     },
     "metadata": {},
     "output_type": "display_data"
    }
   ],
   "source": [
    "\n",
    "import matplotlib.pyplot as plt\n",
    "import seaborn as sns\n",
    "\n",
    "import pandas as pd\n",
    "\n",
    "\n",
    "combined_df = pd.read_csv('../data/output/consumo_datamart_gold.csv')\n",
    "\n",
    "\n",
    "# plot histograms\n",
    "def plot_histogram(data, column, title, bins=30, color='blue'):\n",
    "    plt.figure(figsize=(10, 6))\n",
    "    sns.histplot(data[column], bins=bins, kde=True, color=color)\n",
    "    plt.title(title)\n",
    "    plt.xlabel('Score')\n",
    "    plt.ylabel('Frequency')\n",
    "    plt.show()\n",
    "\n",
    "# Plotting histograms \n",
    "plot_histogram(combined_df, 'Anomaly_Score_Global', 'Histogram of Global Anomaly Scores')\n",
    "plot_histogram(combined_df, 'Anomaly_Score_Cliente', 'Histogram of  Anomaly Scores by Client')\n",
    "plot_histogram(combined_df, 'Anomaly_Score_Sector', 'Histogram of Anomaly Scores by Sector')\n",
    "plot_histogram(combined_df, 'Anomaly_Score_Cluster', 'Histogram of Anomaly Scores by Cluster')\n"
   ]
  },
  {
   "cell_type": "markdown",
   "metadata": {},
   "source": [
    "# 9. Plot of outliers for  the four consumption variables"
   ]
  },
  {
   "cell_type": "code",
   "execution_count": 5,
   "metadata": {},
   "outputs": [
    {
     "data": {
      "image/png": "[encoded data removed]",
      "text/plain": [
       "<Figure size 1800x1800 with 4 Axes>"
      ]
     },
     "metadata": {},
     "output_type": "display_data"
    }
   ],
   "source": [
    "import matplotlib.pyplot as plt\n",
    "import pandas as pd\n",
    "\n",
    "\n",
    "combined_df = pd.read_csv('../data/output/consumo_datamart_gold_isoforest.csv')\n",
    "consistent_outliers_list= combined_df[combined_df['Anomaly_Global']==-1].index.tolist()\n",
    "combined_df['Fecha'] = pd.to_datetime(combined_df['Fecha'])\n",
    "fig, axs = plt.subplots(4, 1, figsize=(18, 18))  # 2 rows, 1 column\n",
    "\n",
    "# Plot for Voltaje_FC\n",
    "axs[0].plot(combined_df['Fecha'], combined_df['Voltaje_FC'], 'b-', label=f'Voltaje_FC', markersize=5)\n",
    "axs[0].scatter(combined_df.loc[consistent_outliers_list, 'Fecha'], combined_df.loc[consistent_outliers_list, 'Voltaje_FC'], color='red', s=50, label='Outliers')\n",
    "axs[0].set_title(f'Voltaje_FC with Outliers Highlighted ')\n",
    "axs[0].set_xlabel('Fecha')\n",
    "axs[0].set_ylabel('Voltaje_FC')\n",
    "axs[0].legend()\n",
    "\n",
    "# Plot for Voltaje_FA\n",
    "axs[1].plot(combined_df['Fecha'], combined_df['Voltaje_FA'], 'b-', label=f'Voltaje_FA', markersize=5)\n",
    "axs[1].scatter(combined_df.loc[consistent_outliers_list, 'Fecha'], combined_df.loc[consistent_outliers_list, 'Voltaje_FA'], color='red', s=50, label='Outliers')\n",
    "axs[1].set_title(f'Voltaje_FA with Outliers Highlighted ')\n",
    "axs[1].set_xlabel('Fecha')\n",
    "axs[1].set_ylabel('Voltaje_FA')\n",
    "axs[1].legend()\n",
    "\n",
    "# Plot for Voltaje_FA\n",
    "axs[2].plot(combined_df['Fecha'], combined_df['Active_energy'], 'b-', label=f'Active_energy', markersize=5)\n",
    "axs[2].scatter(combined_df.loc[consistent_outliers_list, 'Fecha'], combined_df.loc[consistent_outliers_list, 'Active_energy'], color='red', s=50, label='Outliers')\n",
    "axs[2].set_title(f'Active_energy with Outliers Highlighted')\n",
    "axs[2].set_xlabel('Fecha')\n",
    "axs[2].set_ylabel('Active_energy')\n",
    "axs[2].legend()\n",
    "\n",
    "axs[3].plot(combined_df['Fecha'], combined_df['Reactive_energy'], 'b-', label=f'Reactive_energy', markersize=5)\n",
    "axs[3].scatter(combined_df.loc[consistent_outliers_list, 'Fecha'], combined_df.loc[consistent_outliers_list, 'Reactive_energy'], color='red', s=50, label='Outliers')\n",
    "axs[3].set_title(f'ReActive_energy with Outliers Highlighted')\n",
    "axs[3].set_xlabel('Fecha')\n",
    "axs[3].set_ylabel('ReActive_energy')\n",
    "axs[3].legend()\n",
    "\n",
    "# Adjust the layout of the plot to prevent overlap\n",
    "plt.tight_layout()\n",
    "\n",
    "plt.show()\n"
   ]
  }
 ],
 "metadata": {
  "kernelspec": {
   "display_name": ".venv",
   "language": "python",
   "name": "python3"
  },
  "language_info": {
   "codemirror_mode": {
    "name": "ipython",
    "version": 3
   },
   "file_extension": ".py",
   "mimetype": "text/x-python",
   "name": "python",
   "nbconvert_exporter": "python",
   "pygments_lexer": "ipython3",
   "version": "3.12.3"
  }
 },
 "nbformat": 4,
 "nbformat_minor": 2
}
