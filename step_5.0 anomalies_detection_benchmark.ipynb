{
 "cells": [
  {
   "cell_type": "code",
   "execution_count": 1,
   "metadata": {},
   "outputs": [
    {
     "name": "stdout",
     "output_type": "stream",
     "text": [
      "Requirement already satisfied: pandas in c:\\users\\hp\\onedrive\\documents\\eduardo toledo\\miad\\final_project\\source\\.venv\\lib\\site-packages (2.2.1)\n",
      "Requirement already satisfied: unicode in c:\\users\\hp\\onedrive\\documents\\eduardo toledo\\miad\\final_project\\source\\.venv\\lib\\site-packages (2.9)\n",
      "Requirement already satisfied: matplotlib in c:\\users\\hp\\onedrive\\documents\\eduardo toledo\\miad\\final_project\\source\\.venv\\lib\\site-packages (3.8.3)\n",
      "Requirement already satisfied: seaborn in c:\\users\\hp\\onedrive\\documents\\eduardo toledo\\miad\\final_project\\source\\.venv\\lib\\site-packages (0.13.2)\n",
      "Requirement already satisfied: scikit-learn in c:\\users\\hp\\onedrive\\documents\\eduardo toledo\\miad\\final_project\\source\\.venv\\lib\\site-packages (1.4.1.post1)\n",
      "Requirement already satisfied: plotly in c:\\users\\hp\\onedrive\\documents\\eduardo toledo\\miad\\final_project\\source\\.venv\\lib\\site-packages (5.20.0)\n",
      "Requirement already satisfied: scipy in c:\\users\\hp\\onedrive\\documents\\eduardo toledo\\miad\\final_project\\source\\.venv\\lib\\site-packages (1.12.0)\n",
      "Requirement already satisfied: numpy<2,>=1.26.0 in c:\\users\\hp\\onedrive\\documents\\eduardo toledo\\miad\\final_project\\source\\.venv\\lib\\site-packages (from pandas) (1.26.4)\n",
      "Requirement already satisfied: python-dateutil>=2.8.2 in c:\\users\\hp\\onedrive\\documents\\eduardo toledo\\miad\\final_project\\source\\.venv\\lib\\site-packages (from pandas) (2.9.0.post0)\n",
      "Requirement already satisfied: pytz>=2020.1 in c:\\users\\hp\\onedrive\\documents\\eduardo toledo\\miad\\final_project\\source\\.venv\\lib\\site-packages (from pandas) (2024.1)\n",
      "Requirement already satisfied: tzdata>=2022.7 in c:\\users\\hp\\onedrive\\documents\\eduardo toledo\\miad\\final_project\\source\\.venv\\lib\\site-packages (from pandas) (2024.1)\n",
      "Requirement already satisfied: contourpy>=1.0.1 in c:\\users\\hp\\onedrive\\documents\\eduardo toledo\\miad\\final_project\\source\\.venv\\lib\\site-packages (from matplotlib) (1.2.0)\n",
      "Requirement already satisfied: cycler>=0.10 in c:\\users\\hp\\onedrive\\documents\\eduardo toledo\\miad\\final_project\\source\\.venv\\lib\\site-packages (from matplotlib) (0.12.1)\n",
      "Requirement already satisfied: fonttools>=4.22.0 in c:\\users\\hp\\onedrive\\documents\\eduardo toledo\\miad\\final_project\\source\\.venv\\lib\\site-packages (from matplotlib) (4.50.0)\n",
      "Requirement already satisfied: kiwisolver>=1.3.1 in c:\\users\\hp\\onedrive\\documents\\eduardo toledo\\miad\\final_project\\source\\.venv\\lib\\site-packages (from matplotlib) (1.4.5)\n",
      "Requirement already satisfied: packaging>=20.0 in c:\\users\\hp\\onedrive\\documents\\eduardo toledo\\miad\\final_project\\source\\.venv\\lib\\site-packages (from matplotlib) (24.0)\n",
      "Requirement already satisfied: pillow>=8 in c:\\users\\hp\\onedrive\\documents\\eduardo toledo\\miad\\final_project\\source\\.venv\\lib\\site-packages (from matplotlib) (10.2.0)\n",
      "Requirement already satisfied: pyparsing>=2.3.1 in c:\\users\\hp\\onedrive\\documents\\eduardo toledo\\miad\\final_project\\source\\.venv\\lib\\site-packages (from matplotlib) (3.1.2)\n",
      "Requirement already satisfied: joblib>=1.2.0 in c:\\users\\hp\\onedrive\\documents\\eduardo toledo\\miad\\final_project\\source\\.venv\\lib\\site-packages (from scikit-learn) (1.3.2)\n",
      "Requirement already satisfied: threadpoolctl>=2.0.0 in c:\\users\\hp\\onedrive\\documents\\eduardo toledo\\miad\\final_project\\source\\.venv\\lib\\site-packages (from scikit-learn) (3.4.0)\n",
      "Requirement already satisfied: tenacity>=6.2.0 in c:\\users\\hp\\onedrive\\documents\\eduardo toledo\\miad\\final_project\\source\\.venv\\lib\\site-packages (from plotly) (8.2.3)\n",
      "Requirement already satisfied: six>=1.5 in c:\\users\\hp\\onedrive\\documents\\eduardo toledo\\miad\\final_project\\source\\.venv\\lib\\site-packages (from python-dateutil>=2.8.2->pandas) (1.16.0)\n",
      "Note: you may need to restart the kernel to use updated packages.\n"
     ]
    },
    {
     "name": "stderr",
     "output_type": "stream",
     "text": [
      "WARNING: Skipping c:\\Users\\HP\\OneDrive\\Documents\\Eduardo Toledo\\MIAD\\final_project\\source\\.venv\\Lib\\site-packages\\~%format-5.10.3.dist-info due to invalid metadata entry 'name'\n",
      "WARNING: Skipping c:\\Users\\HP\\OneDrive\\Documents\\Eduardo Toledo\\MIAD\\final_project\\source\\.venv\\Lib\\site-packages\\~-format-5.10.3.dist-info due to invalid metadata entry 'name'\n",
      "WARNING: Skipping c:\\Users\\HP\\OneDrive\\Documents\\Eduardo Toledo\\MIAD\\final_project\\source\\.venv\\Lib\\site-packages\\~.format-5.10.3.dist-info due to invalid metadata entry 'name'\n",
      "WARNING: Skipping c:\\Users\\HP\\OneDrive\\Documents\\Eduardo Toledo\\MIAD\\final_project\\source\\.venv\\Lib\\site-packages\\~0format-5.10.3.dist-info due to invalid metadata entry 'name'\n",
      "WARNING: Skipping c:\\Users\\HP\\OneDrive\\Documents\\Eduardo Toledo\\MIAD\\final_project\\source\\.venv\\Lib\\site-packages\\~=format-5.10.3.dist-info due to invalid metadata entry 'name'\n",
      "WARNING: Skipping c:\\Users\\HP\\OneDrive\\Documents\\Eduardo Toledo\\MIAD\\final_project\\source\\.venv\\Lib\\site-packages\\~bformat-5.10.3.dist-info due to invalid metadata entry 'name'\n",
      "WARNING: Skipping c:\\Users\\HP\\OneDrive\\Documents\\Eduardo Toledo\\MIAD\\final_project\\source\\.venv\\Lib\\site-packages\\~~format-5.10.3.dist-info due to invalid metadata entry 'name'\n",
      "WARNING: Skipping c:\\Users\\HP\\OneDrive\\Documents\\Eduardo Toledo\\MIAD\\final_project\\source\\.venv\\Lib\\site-packages\\~%format-5.10.3.dist-info due to invalid metadata entry 'name'\n",
      "WARNING: Skipping c:\\Users\\HP\\OneDrive\\Documents\\Eduardo Toledo\\MIAD\\final_project\\source\\.venv\\Lib\\site-packages\\~-format-5.10.3.dist-info due to invalid metadata entry 'name'\n",
      "WARNING: Skipping c:\\Users\\HP\\OneDrive\\Documents\\Eduardo Toledo\\MIAD\\final_project\\source\\.venv\\Lib\\site-packages\\~.format-5.10.3.dist-info due to invalid metadata entry 'name'\n",
      "WARNING: Skipping c:\\Users\\HP\\OneDrive\\Documents\\Eduardo Toledo\\MIAD\\final_project\\source\\.venv\\Lib\\site-packages\\~0format-5.10.3.dist-info due to invalid metadata entry 'name'\n",
      "WARNING: Skipping c:\\Users\\HP\\OneDrive\\Documents\\Eduardo Toledo\\MIAD\\final_project\\source\\.venv\\Lib\\site-packages\\~=format-5.10.3.dist-info due to invalid metadata entry 'name'\n",
      "WARNING: Skipping c:\\Users\\HP\\OneDrive\\Documents\\Eduardo Toledo\\MIAD\\final_project\\source\\.venv\\Lib\\site-packages\\~bformat-5.10.3.dist-info due to invalid metadata entry 'name'\n",
      "WARNING: Skipping c:\\Users\\HP\\OneDrive\\Documents\\Eduardo Toledo\\MIAD\\final_project\\source\\.venv\\Lib\\site-packages\\~~format-5.10.3.dist-info due to invalid metadata entry 'name'\n",
      "WARNING: Skipping c:\\Users\\HP\\OneDrive\\Documents\\Eduardo Toledo\\MIAD\\final_project\\source\\.venv\\Lib\\site-packages\\~%format-5.10.3.dist-info due to invalid metadata entry 'name'\n",
      "WARNING: Skipping c:\\Users\\HP\\OneDrive\\Documents\\Eduardo Toledo\\MIAD\\final_project\\source\\.venv\\Lib\\site-packages\\~-format-5.10.3.dist-info due to invalid metadata entry 'name'\n",
      "WARNING: Skipping c:\\Users\\HP\\OneDrive\\Documents\\Eduardo Toledo\\MIAD\\final_project\\source\\.venv\\Lib\\site-packages\\~.format-5.10.3.dist-info due to invalid metadata entry 'name'\n",
      "WARNING: Skipping c:\\Users\\HP\\OneDrive\\Documents\\Eduardo Toledo\\MIAD\\final_project\\source\\.venv\\Lib\\site-packages\\~0format-5.10.3.dist-info due to invalid metadata entry 'name'\n",
      "WARNING: Skipping c:\\Users\\HP\\OneDrive\\Documents\\Eduardo Toledo\\MIAD\\final_project\\source\\.venv\\Lib\\site-packages\\~=format-5.10.3.dist-info due to invalid metadata entry 'name'\n",
      "WARNING: Skipping c:\\Users\\HP\\OneDrive\\Documents\\Eduardo Toledo\\MIAD\\final_project\\source\\.venv\\Lib\\site-packages\\~bformat-5.10.3.dist-info due to invalid metadata entry 'name'\n",
      "WARNING: Skipping c:\\Users\\HP\\OneDrive\\Documents\\Eduardo Toledo\\MIAD\\final_project\\source\\.venv\\Lib\\site-packages\\~~format-5.10.3.dist-info due to invalid metadata entry 'name'\n",
      "WARNING: Skipping c:\\Users\\HP\\OneDrive\\Documents\\Eduardo Toledo\\MIAD\\final_project\\source\\.venv\\Lib\\site-packages\\~%format-5.10.3.dist-info due to invalid metadata entry 'name'\n",
      "WARNING: Skipping c:\\Users\\HP\\OneDrive\\Documents\\Eduardo Toledo\\MIAD\\final_project\\source\\.venv\\Lib\\site-packages\\~-format-5.10.3.dist-info due to invalid metadata entry 'name'\n",
      "WARNING: Skipping c:\\Users\\HP\\OneDrive\\Documents\\Eduardo Toledo\\MIAD\\final_project\\source\\.venv\\Lib\\site-packages\\~.format-5.10.3.dist-info due to invalid metadata entry 'name'\n",
      "WARNING: Skipping c:\\Users\\HP\\OneDrive\\Documents\\Eduardo Toledo\\MIAD\\final_project\\source\\.venv\\Lib\\site-packages\\~0format-5.10.3.dist-info due to invalid metadata entry 'name'\n",
      "WARNING: Skipping c:\\Users\\HP\\OneDrive\\Documents\\Eduardo Toledo\\MIAD\\final_project\\source\\.venv\\Lib\\site-packages\\~=format-5.10.3.dist-info due to invalid metadata entry 'name'\n",
      "WARNING: Skipping c:\\Users\\HP\\OneDrive\\Documents\\Eduardo Toledo\\MIAD\\final_project\\source\\.venv\\Lib\\site-packages\\~bformat-5.10.3.dist-info due to invalid metadata entry 'name'\n",
      "WARNING: Skipping c:\\Users\\HP\\OneDrive\\Documents\\Eduardo Toledo\\MIAD\\final_project\\source\\.venv\\Lib\\site-packages\\~~format-5.10.3.dist-info due to invalid metadata entry 'name'\n"
     ]
    }
   ],
   "source": [
    "pip install pandas unicode matplotlib seaborn scikit-learn plotly scipy "
   ]
  },
  {
   "cell_type": "code",
   "execution_count": 1,
   "metadata": {},
   "outputs": [],
   "source": [
    "import pandas as pd\n",
    "pd.set_option(\"mode.copy_on_write\", True)"
   ]
  },
  {
   "cell_type": "markdown",
   "metadata": {},
   "source": [
    "# 1. Calculation Average Silhouette Score by Cluster using ISOLATION FOREST\n",
    "\n",
    "The objective is to measure How well the inliers were separated from the outliers. In this analyses, we consider 2 clusters (Inlier and Outlier) and hence, the Silhoutte score comes to play an important role."
   ]
  },
  {
   "cell_type": "code",
   "execution_count": 2,
   "metadata": {},
   "outputs": [
    {
     "name": "stdout",
     "output_type": "stream",
     "text": [
      "Silhouette Score Isolation Forest 0.24949489471168887\n"
     ]
    }
   ],
   "source": [
    "import pandas as pd\n",
    "from sklearn.metrics import silhouette_score\n",
    "from sklearn.preprocessing import StandardScaler\n",
    "\n",
    "\n",
    "\n",
    "features = ['Active_energy', 'Reactive_energy', 'Voltaje_FA', 'Voltaje_FC', 'Factor_Potencia']\n",
    "time_features= ['Dia_Sin', 'Dia_Cos','Hora_Sin','Hora_Cos','Mes_Sin','Mes_Cos']\n",
    "final_features= features + time_features\n",
    "# Load the data\n",
    "isoforest_df = pd.read_csv('../data/output/consumo_datamart_gold_isoforest.csv', usecols= final_features + ['Anomaly_Cluster'])\n",
    "\n",
    "scaler = StandardScaler()\n",
    "\n",
    "# Scale the features for IsoForest dataset\n",
    "isoforest_df[features] = scaler.fit_transform(isoforest_df[features])\n",
    "labels_iso = isoforest_df['Anomaly_Cluster']\n",
    "\n",
    "\n",
    "# Compute the silhouette scores\n",
    "silhouette_score_iso = silhouette_score(isoforest_df, labels_iso)\n",
    "print(f\"Silhouette Score Isolation Forest {silhouette_score_iso}\")\n",
    "\n",
    "\n"
   ]
  },
  {
   "cell_type": "markdown",
   "metadata": {},
   "source": [
    "# 2. Calculation Average Silhouette Score by Cluster using LOCAL OUTLIER FACTOR\n",
    "\n",
    "The objective is to measure How well the inliers were separated from the outliers. In this analyses, we consider 2 clusters (Inlier and Outlier) and hence, the Silhoutte score comes to play an important role."
   ]
  },
  {
   "cell_type": "code",
   "execution_count": 3,
   "metadata": {},
   "outputs": [
    {
     "name": "stdout",
     "output_type": "stream",
     "text": [
      "Silhouette Score  LOF 0.12332711273302875\n"
     ]
    }
   ],
   "source": [
    "import pandas as pd\n",
    "from sklearn.metrics import silhouette_score\n",
    "from sklearn.preprocessing import StandardScaler\n",
    "\n",
    "\n",
    "features = ['Active_energy', 'Reactive_energy', 'Voltaje_FA', 'Voltaje_FC', 'Factor_Potencia']\n",
    "time_features= ['Dia_Sin', 'Dia_Cos','Hora_Sin','Hora_Cos','Mes_Sin','Mes_Cos']\n",
    "final_features= features + time_features\n",
    "# Load the data\n",
    "lof_df = pd.read_csv('../data/output/consumo_datamart_gold_lof.csv',usecols= final_features + ['Anomaly_Cluster'])\n",
    "\n",
    "scaler = StandardScaler()\n",
    "\n",
    "# Scale the features for LOF dataset\n",
    "lof_df[features] = scaler.fit_transform(lof_df[features])\n",
    "labels_lof = lof_df['Anomaly_Cluster']\n",
    "\n",
    "# Compute the silhouette scores\n",
    "silhouette_score_lof = silhouette_score(lof_df, labels_lof)\n",
    "print(f\"Silhouette Score  LOF {silhouette_score_lof}\")\n",
    "\n",
    "\n"
   ]
  },
  {
   "cell_type": "markdown",
   "metadata": {},
   "source": [
    "# 3. Calculation Average Silhouette Score by Cluster using OneClassSVM\n",
    "\n",
    "\n",
    "The objective is to measure How well the inliers were separated from the outliers. In this analyses, we consider 2 clusters (Inlier and Outlier) and hence, the Silhoutte score comes to play an important role."
   ]
  },
  {
   "cell_type": "code",
   "execution_count": 6,
   "metadata": {},
   "outputs": [
    {
     "name": "stdout",
     "output_type": "stream",
     "text": [
      "Silhouette Score  OneClassSVM 0.22593096248235311\n"
     ]
    }
   ],
   "source": [
    "import pandas as pd\n",
    "from sklearn.metrics import silhouette_score\n",
    "from sklearn.preprocessing import StandardScaler\n",
    "\n",
    "\n",
    "# Define the feature columns\n",
    "features = ['Active_energy', 'Reactive_energy', 'Voltaje_FA', 'Voltaje_FC', 'Factor_Potencia']\n",
    "time_features= ['Dia_Sin', 'Dia_Cos','Hora_Sin','Hora_Cos','Mes_Sin','Mes_Cos']\n",
    "final_features= features + time_features\n",
    "# Load the data\n",
    "ocsvm_df = pd.read_csv('../data/output/consumo_datamart_gold_ocsvm.csv',usecols= final_features + ['Anomaly_Cluster'])\n",
    "\n",
    "\n",
    "\n",
    "# Initialize the scaler\n",
    "scaler = StandardScaler()\n",
    "\n",
    "# Scale the features for LOF dataset\n",
    "ocsvm_df[features] = scaler.fit_transform(ocsvm_df[features])\n",
    "labels_ocsvm = ocsvm_df['Anomaly_Cluster']\n",
    "\n",
    "# Compute the silhouette scores\n",
    "silhouette_score_ocsvm = silhouette_score(ocsvm_df, labels_ocsvm)\n",
    "print(f\"Silhouette Score  OneClassSVM {silhouette_score_ocsvm}\")\n",
    "\n",
    "\n"
   ]
  },
  {
   "cell_type": "code",
   "execution_count": 5,
   "metadata": {},
   "outputs": [
    {
     "data": {
      "text/plain": [
       "0.22593096248235311"
      ]
     },
     "execution_count": 5,
     "metadata": {},
     "output_type": "execute_result"
    }
   ],
   "source": [
    "silhouette_score_lof"
   ]
  },
  {
   "cell_type": "markdown",
   "metadata": {},
   "source": [
    "# 4. Calculation Average Silhouette Score by Cluster using DBSCAN\n",
    "\n",
    "\n",
    "The objective is to measure How well the inliers were separated from the outliers. In this analyses, we consider 2 clusters (Inlier and Outlier) and hence, the Silhoutte score comes to play an important role."
   ]
  },
  {
   "cell_type": "code",
   "execution_count": 2,
   "metadata": {},
   "outputs": [
    {
     "name": "stdout",
     "output_type": "stream",
     "text": [
      "Silhouette Score DBScan 0.10099289782890346\n"
     ]
    }
   ],
   "source": [
    "import pandas as pd\n",
    "from sklearn.metrics import silhouette_score\n",
    "from sklearn.preprocessing import StandardScaler\n",
    "\n",
    "\n",
    "# Define the feature columns\n",
    "features = ['Active_energy', 'Reactive_energy', 'Voltaje_FA', 'Voltaje_FC', 'Factor_Potencia']\n",
    "time_features= ['Dia_Sin', 'Dia_Cos','Hora_Sin','Hora_Cos','Mes_Sin','Mes_Cos']\n",
    "final_features= features + time_features\n",
    "# Load the data\n",
    "dbscan_df = pd.read_csv('../data/output/consumo_datamart_gold_dbscan.csv', usecols= final_features + ['Anomaly_Cluster'])\n",
    "\n",
    "\n",
    "\n",
    "# Initialize the scaler\n",
    "scaler = StandardScaler()\n",
    "\n",
    "# Scale the features for dbscan_df dataset\n",
    "dbscan_df[features] = scaler.fit_transform(dbscan_df[features])\n",
    "labels_dbscan = dbscan_df['Anomaly_Cluster']\n",
    "\n",
    "\n",
    "# Compute the silhouette scores\n",
    "silhouette_score_dbscan = silhouette_score(dbscan_df, labels_dbscan)\n",
    "print(f\"Silhouette Score DBScan {silhouette_score_dbscan}\")\n",
    "\n",
    "\n"
   ]
  },
  {
   "cell_type": "markdown",
   "metadata": {},
   "source": [
    "# 5 Selection of anomaly detection model\n",
    "\n",
    "\n",
    "<table>\n",
    "<tr> \n",
    "  <th>Model</th>\n",
    "  <th> Silhouette Score</th>\n",
    "</tr>\n",
    "<tr style=\"background-color:blue;\">\n",
    "  <td>Isolation Forest</td>\n",
    "  <td>0.2494</td>\n",
    "</tr>\n",
    "<tr>\n",
    "  <td>OneClassSVM</td>\n",
    "  <td>0.2259</td>\n",
    "</tr>\n",
    "<tr>\n",
    "  <td>Local Oultier Factor</td>\n",
    "  <td>0.1233</td>\n",
    "</tr>\n",
    "<tr>\n",
    "  <td>HDBSCAN</td>\n",
    "  <td>0.10099</td>\n",
    "</tr>\n",
    "</table>\n",
    "\n",
    "The model with the best sillhoutte escore  is selected and hence, we will use Isolation Forest. We know the score of 0.24 is not very significant but in this unsupervised scenario, at least we count on a metric."
   ]
  }
 ],
 "metadata": {
  "kernelspec": {
   "display_name": ".venv",
   "language": "python",
   "name": "python3"
  },
  "language_info": {
   "codemirror_mode": {
    "name": "ipython",
    "version": 3
   },
   "file_extension": ".py",
   "mimetype": "text/x-python",
   "name": "python",
   "nbconvert_exporter": "python",
   "pygments_lexer": "ipython3",
   "version": "3.12.2"
  }
 },
 "nbformat": 4,
 "nbformat_minor": 2
}
