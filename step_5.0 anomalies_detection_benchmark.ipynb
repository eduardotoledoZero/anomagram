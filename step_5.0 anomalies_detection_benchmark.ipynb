{
 "cells": [
  {
   "cell_type": "code",
   "execution_count": 16,
   "metadata": {},
   "outputs": [
    {
     "name": "stdout",
     "output_type": "stream",
     "text": [
      "Requirement already satisfied: pandas in c:\\users\\hp\\onedrive\\documents\\eduardo toledo\\miad\\final_project\\source\\.venv\\lib\\site-packages (2.2.1)\n",
      "Requirement already satisfied: unicode in c:\\users\\hp\\onedrive\\documents\\eduardo toledo\\miad\\final_project\\source\\.venv\\lib\\site-packages (2.9)\n",
      "Requirement already satisfied: matplotlib in c:\\users\\hp\\onedrive\\documents\\eduardo toledo\\miad\\final_project\\source\\.venv\\lib\\site-packages (3.8.3)\n",
      "Requirement already satisfied: seaborn in c:\\users\\hp\\onedrive\\documents\\eduardo toledo\\miad\\final_project\\source\\.venv\\lib\\site-packages (0.13.2)\n",
      "Requirement already satisfied: scikit-learn in c:\\users\\hp\\onedrive\\documents\\eduardo toledo\\miad\\final_project\\source\\.venv\\lib\\site-packages (1.4.1.post1)\n",
      "Requirement already satisfied: plotly in c:\\users\\hp\\onedrive\\documents\\eduardo toledo\\miad\\final_project\\source\\.venv\\lib\\site-packages (5.20.0)\n",
      "Requirement already satisfied: scipy in c:\\users\\hp\\onedrive\\documents\\eduardo toledo\\miad\\final_project\\source\\.venv\\lib\\site-packages (1.12.0)\n",
      "Requirement already satisfied: dask[complete] in c:\\users\\hp\\onedrive\\documents\\eduardo toledo\\miad\\final_project\\source\\.venv\\lib\\site-packages (2024.5.0)\n",
      "Requirement already satisfied: numpy<2,>=1.26.0 in c:\\users\\hp\\onedrive\\documents\\eduardo toledo\\miad\\final_project\\source\\.venv\\lib\\site-packages (from pandas) (1.26.4)\n",
      "Requirement already satisfied: python-dateutil>=2.8.2 in c:\\users\\hp\\onedrive\\documents\\eduardo toledo\\miad\\final_project\\source\\.venv\\lib\\site-packages (from pandas) (2.9.0.post0)\n",
      "Requirement already satisfied: pytz>=2020.1 in c:\\users\\hp\\onedrive\\documents\\eduardo toledo\\miad\\final_project\\source\\.venv\\lib\\site-packages (from pandas) (2024.1)\n",
      "Requirement already satisfied: tzdata>=2022.7 in c:\\users\\hp\\onedrive\\documents\\eduardo toledo\\miad\\final_project\\source\\.venv\\lib\\site-packages (from pandas) (2024.1)\n",
      "Requirement already satisfied: contourpy>=1.0.1 in c:\\users\\hp\\onedrive\\documents\\eduardo toledo\\miad\\final_project\\source\\.venv\\lib\\site-packages (from matplotlib) (1.2.0)\n",
      "Requirement already satisfied: cycler>=0.10 in c:\\users\\hp\\onedrive\\documents\\eduardo toledo\\miad\\final_project\\source\\.venv\\lib\\site-packages (from matplotlib) (0.12.1)\n",
      "Requirement already satisfied: fonttools>=4.22.0 in c:\\users\\hp\\onedrive\\documents\\eduardo toledo\\miad\\final_project\\source\\.venv\\lib\\site-packages (from matplotlib) (4.50.0)\n",
      "Requirement already satisfied: kiwisolver>=1.3.1 in c:\\users\\hp\\onedrive\\documents\\eduardo toledo\\miad\\final_project\\source\\.venv\\lib\\site-packages (from matplotlib) (1.4.5)\n",
      "Requirement already satisfied: packaging>=20.0 in c:\\users\\hp\\onedrive\\documents\\eduardo toledo\\miad\\final_project\\source\\.venv\\lib\\site-packages (from matplotlib) (24.0)\n",
      "Requirement already satisfied: pillow>=8 in c:\\users\\hp\\onedrive\\documents\\eduardo toledo\\miad\\final_project\\source\\.venv\\lib\\site-packages (from matplotlib) (10.2.0)\n",
      "Requirement already satisfied: pyparsing>=2.3.1 in c:\\users\\hp\\onedrive\\documents\\eduardo toledo\\miad\\final_project\\source\\.venv\\lib\\site-packages (from matplotlib) (3.1.2)\n",
      "Requirement already satisfied: joblib>=1.2.0 in c:\\users\\hp\\onedrive\\documents\\eduardo toledo\\miad\\final_project\\source\\.venv\\lib\\site-packages (from scikit-learn) (1.3.2)\n",
      "Requirement already satisfied: threadpoolctl>=2.0.0 in c:\\users\\hp\\onedrive\\documents\\eduardo toledo\\miad\\final_project\\source\\.venv\\lib\\site-packages (from scikit-learn) (3.4.0)\n",
      "Requirement already satisfied: tenacity>=6.2.0 in c:\\users\\hp\\onedrive\\documents\\eduardo toledo\\miad\\final_project\\source\\.venv\\lib\\site-packages (from plotly) (8.2.3)\n",
      "Requirement already satisfied: click>=8.1 in c:\\users\\hp\\onedrive\\documents\\eduardo toledo\\miad\\final_project\\source\\.venv\\lib\\site-packages (from dask[complete]) (8.1.7)\n",
      "Requirement already satisfied: cloudpickle>=1.5.0 in c:\\users\\hp\\onedrive\\documents\\eduardo toledo\\miad\\final_project\\source\\.venv\\lib\\site-packages (from dask[complete]) (3.0.0)\n",
      "Requirement already satisfied: fsspec>=2021.09.0 in c:\\users\\hp\\onedrive\\documents\\eduardo toledo\\miad\\final_project\\source\\.venv\\lib\\site-packages (from dask[complete]) (2024.3.1)\n",
      "Requirement already satisfied: partd>=1.2.0 in c:\\users\\hp\\onedrive\\documents\\eduardo toledo\\miad\\final_project\\source\\.venv\\lib\\site-packages (from dask[complete]) (1.4.2)\n",
      "Requirement already satisfied: pyyaml>=5.3.1 in c:\\users\\hp\\onedrive\\documents\\eduardo toledo\\miad\\final_project\\source\\.venv\\lib\\site-packages (from dask[complete]) (6.0.1)\n",
      "Requirement already satisfied: toolz>=0.10.0 in c:\\users\\hp\\onedrive\\documents\\eduardo toledo\\miad\\final_project\\source\\.venv\\lib\\site-packages (from dask[complete]) (0.12.1)\n",
      "Requirement already satisfied: pyarrow>=7.0 in c:\\users\\hp\\onedrive\\documents\\eduardo toledo\\miad\\final_project\\source\\.venv\\lib\\site-packages (from dask[complete]) (16.0.0)\n",
      "Requirement already satisfied: pyarrow-hotfix in c:\\users\\hp\\onedrive\\documents\\eduardo toledo\\miad\\final_project\\source\\.venv\\lib\\site-packages (from dask[complete]) (0.6)\n",
      "Requirement already satisfied: lz4>=4.3.2 in c:\\users\\hp\\onedrive\\documents\\eduardo toledo\\miad\\final_project\\source\\.venv\\lib\\site-packages (from dask[complete]) (4.3.3)\n",
      "Requirement already satisfied: colorama in c:\\users\\hp\\onedrive\\documents\\eduardo toledo\\miad\\final_project\\source\\.venv\\lib\\site-packages (from click>=8.1->dask[complete]) (0.4.6)\n",
      "Requirement already satisfied: locket in c:\\users\\hp\\onedrive\\documents\\eduardo toledo\\miad\\final_project\\source\\.venv\\lib\\site-packages (from partd>=1.2.0->dask[complete]) (1.0.0)\n",
      "Requirement already satisfied: six>=1.5 in c:\\users\\hp\\onedrive\\documents\\eduardo toledo\\miad\\final_project\\source\\.venv\\lib\\site-packages (from python-dateutil>=2.8.2->pandas) (1.16.0)\n",
      "Requirement already satisfied: dask-expr<1.2,>=1.1 in c:\\users\\hp\\onedrive\\documents\\eduardo toledo\\miad\\final_project\\source\\.venv\\lib\\site-packages (from dask[complete]) (1.1.0)\n",
      "Requirement already satisfied: bokeh>=2.4.2 in c:\\users\\hp\\onedrive\\documents\\eduardo toledo\\miad\\final_project\\source\\.venv\\lib\\site-packages (from dask[complete]) (3.4.1)\n",
      "Requirement already satisfied: jinja2>=2.10.3 in c:\\users\\hp\\onedrive\\documents\\eduardo toledo\\miad\\final_project\\source\\.venv\\lib\\site-packages (from dask[complete]) (3.1.4)\n",
      "Requirement already satisfied: distributed==2024.5.0 in c:\\users\\hp\\onedrive\\documents\\eduardo toledo\\miad\\final_project\\source\\.venv\\lib\\site-packages (from dask[complete]) (2024.5.0)\n",
      "Requirement already satisfied: msgpack>=1.0.0 in c:\\users\\hp\\onedrive\\documents\\eduardo toledo\\miad\\final_project\\source\\.venv\\lib\\site-packages (from distributed==2024.5.0->dask[complete]) (1.0.8)\n",
      "Requirement already satisfied: psutil>=5.7.2 in c:\\users\\hp\\onedrive\\documents\\eduardo toledo\\miad\\final_project\\source\\.venv\\lib\\site-packages (from distributed==2024.5.0->dask[complete]) (5.9.8)\n",
      "Requirement already satisfied: sortedcontainers>=2.0.5 in c:\\users\\hp\\onedrive\\documents\\eduardo toledo\\miad\\final_project\\source\\.venv\\lib\\site-packages (from distributed==2024.5.0->dask[complete]) (2.4.0)\n",
      "Requirement already satisfied: tblib>=1.6.0 in c:\\users\\hp\\onedrive\\documents\\eduardo toledo\\miad\\final_project\\source\\.venv\\lib\\site-packages (from distributed==2024.5.0->dask[complete]) (3.0.0)\n",
      "Requirement already satisfied: tornado>=6.0.4 in c:\\users\\hp\\onedrive\\documents\\eduardo toledo\\miad\\final_project\\source\\.venv\\lib\\site-packages (from distributed==2024.5.0->dask[complete]) (6.4)\n",
      "Requirement already satisfied: urllib3>=1.24.3 in c:\\users\\hp\\onedrive\\documents\\eduardo toledo\\miad\\final_project\\source\\.venv\\lib\\site-packages (from distributed==2024.5.0->dask[complete]) (2.2.1)\n",
      "Requirement already satisfied: zict>=3.0.0 in c:\\users\\hp\\onedrive\\documents\\eduardo toledo\\miad\\final_project\\source\\.venv\\lib\\site-packages (from distributed==2024.5.0->dask[complete]) (3.0.0)\n",
      "Requirement already satisfied: xyzservices>=2021.09.1 in c:\\users\\hp\\onedrive\\documents\\eduardo toledo\\miad\\final_project\\source\\.venv\\lib\\site-packages (from bokeh>=2.4.2->dask[complete]) (2024.4.0)\n",
      "Requirement already satisfied: MarkupSafe>=2.0 in c:\\users\\hp\\onedrive\\documents\\eduardo toledo\\miad\\final_project\\source\\.venv\\lib\\site-packages (from jinja2>=2.10.3->dask[complete]) (2.1.5)\n",
      "Note: you may need to restart the kernel to use updated packages.\n"
     ]
    },
    {
     "name": "stderr",
     "output_type": "stream",
     "text": [
      "WARNING: Skipping c:\\Users\\HP\\OneDrive\\Documents\\Eduardo Toledo\\MIAD\\final_project\\source\\.venv\\Lib\\site-packages\\~%format-5.10.3.dist-info due to invalid metadata entry 'name'\n",
      "WARNING: Skipping c:\\Users\\HP\\OneDrive\\Documents\\Eduardo Toledo\\MIAD\\final_project\\source\\.venv\\Lib\\site-packages\\~-format-5.10.3.dist-info due to invalid metadata entry 'name'\n",
      "WARNING: Skipping c:\\Users\\HP\\OneDrive\\Documents\\Eduardo Toledo\\MIAD\\final_project\\source\\.venv\\Lib\\site-packages\\~.format-5.10.3.dist-info due to invalid metadata entry 'name'\n",
      "WARNING: Skipping c:\\Users\\HP\\OneDrive\\Documents\\Eduardo Toledo\\MIAD\\final_project\\source\\.venv\\Lib\\site-packages\\~0format-5.10.3.dist-info due to invalid metadata entry 'name'\n",
      "WARNING: Skipping c:\\Users\\HP\\OneDrive\\Documents\\Eduardo Toledo\\MIAD\\final_project\\source\\.venv\\Lib\\site-packages\\~1format-5.10.3.dist-info due to invalid metadata entry 'name'\n",
      "WARNING: Skipping c:\\Users\\HP\\OneDrive\\Documents\\Eduardo Toledo\\MIAD\\final_project\\source\\.venv\\Lib\\site-packages\\~2format-5.10.3.dist-info due to invalid metadata entry 'name'\n",
      "WARNING: Skipping c:\\Users\\HP\\OneDrive\\Documents\\Eduardo Toledo\\MIAD\\final_project\\source\\.venv\\Lib\\site-packages\\~=format-5.10.3.dist-info due to invalid metadata entry 'name'\n",
      "WARNING: Skipping c:\\Users\\HP\\OneDrive\\Documents\\Eduardo Toledo\\MIAD\\final_project\\source\\.venv\\Lib\\site-packages\\~bformat-5.10.3.dist-info due to invalid metadata entry 'name'\n",
      "WARNING: Skipping c:\\Users\\HP\\OneDrive\\Documents\\Eduardo Toledo\\MIAD\\final_project\\source\\.venv\\Lib\\site-packages\\~~format-5.10.3.dist-info due to invalid metadata entry 'name'\n",
      "WARNING: Skipping c:\\Users\\HP\\OneDrive\\Documents\\Eduardo Toledo\\MIAD\\final_project\\source\\.venv\\Lib\\site-packages\\~%format-5.10.3.dist-info due to invalid metadata entry 'name'\n",
      "WARNING: Skipping c:\\Users\\HP\\OneDrive\\Documents\\Eduardo Toledo\\MIAD\\final_project\\source\\.venv\\Lib\\site-packages\\~-format-5.10.3.dist-info due to invalid metadata entry 'name'\n",
      "WARNING: Skipping c:\\Users\\HP\\OneDrive\\Documents\\Eduardo Toledo\\MIAD\\final_project\\source\\.venv\\Lib\\site-packages\\~.format-5.10.3.dist-info due to invalid metadata entry 'name'\n",
      "WARNING: Skipping c:\\Users\\HP\\OneDrive\\Documents\\Eduardo Toledo\\MIAD\\final_project\\source\\.venv\\Lib\\site-packages\\~0format-5.10.3.dist-info due to invalid metadata entry 'name'\n",
      "WARNING: Skipping c:\\Users\\HP\\OneDrive\\Documents\\Eduardo Toledo\\MIAD\\final_project\\source\\.venv\\Lib\\site-packages\\~1format-5.10.3.dist-info due to invalid metadata entry 'name'\n",
      "WARNING: Skipping c:\\Users\\HP\\OneDrive\\Documents\\Eduardo Toledo\\MIAD\\final_project\\source\\.venv\\Lib\\site-packages\\~2format-5.10.3.dist-info due to invalid metadata entry 'name'\n",
      "WARNING: Skipping c:\\Users\\HP\\OneDrive\\Documents\\Eduardo Toledo\\MIAD\\final_project\\source\\.venv\\Lib\\site-packages\\~=format-5.10.3.dist-info due to invalid metadata entry 'name'\n",
      "WARNING: Skipping c:\\Users\\HP\\OneDrive\\Documents\\Eduardo Toledo\\MIAD\\final_project\\source\\.venv\\Lib\\site-packages\\~bformat-5.10.3.dist-info due to invalid metadata entry 'name'\n",
      "WARNING: Skipping c:\\Users\\HP\\OneDrive\\Documents\\Eduardo Toledo\\MIAD\\final_project\\source\\.venv\\Lib\\site-packages\\~~format-5.10.3.dist-info due to invalid metadata entry 'name'\n",
      "WARNING: Skipping c:\\Users\\HP\\OneDrive\\Documents\\Eduardo Toledo\\MIAD\\final_project\\source\\.venv\\Lib\\site-packages\\~%format-5.10.3.dist-info due to invalid metadata entry 'name'\n",
      "WARNING: Skipping c:\\Users\\HP\\OneDrive\\Documents\\Eduardo Toledo\\MIAD\\final_project\\source\\.venv\\Lib\\site-packages\\~-format-5.10.3.dist-info due to invalid metadata entry 'name'\n",
      "WARNING: Skipping c:\\Users\\HP\\OneDrive\\Documents\\Eduardo Toledo\\MIAD\\final_project\\source\\.venv\\Lib\\site-packages\\~.format-5.10.3.dist-info due to invalid metadata entry 'name'\n",
      "WARNING: Skipping c:\\Users\\HP\\OneDrive\\Documents\\Eduardo Toledo\\MIAD\\final_project\\source\\.venv\\Lib\\site-packages\\~0format-5.10.3.dist-info due to invalid metadata entry 'name'\n",
      "WARNING: Skipping c:\\Users\\HP\\OneDrive\\Documents\\Eduardo Toledo\\MIAD\\final_project\\source\\.venv\\Lib\\site-packages\\~1format-5.10.3.dist-info due to invalid metadata entry 'name'\n",
      "WARNING: Skipping c:\\Users\\HP\\OneDrive\\Documents\\Eduardo Toledo\\MIAD\\final_project\\source\\.venv\\Lib\\site-packages\\~2format-5.10.3.dist-info due to invalid metadata entry 'name'\n",
      "WARNING: Skipping c:\\Users\\HP\\OneDrive\\Documents\\Eduardo Toledo\\MIAD\\final_project\\source\\.venv\\Lib\\site-packages\\~=format-5.10.3.dist-info due to invalid metadata entry 'name'\n",
      "WARNING: Skipping c:\\Users\\HP\\OneDrive\\Documents\\Eduardo Toledo\\MIAD\\final_project\\source\\.venv\\Lib\\site-packages\\~bformat-5.10.3.dist-info due to invalid metadata entry 'name'\n",
      "WARNING: Skipping c:\\Users\\HP\\OneDrive\\Documents\\Eduardo Toledo\\MIAD\\final_project\\source\\.venv\\Lib\\site-packages\\~~format-5.10.3.dist-info due to invalid metadata entry 'name'\n",
      "WARNING: Skipping c:\\Users\\HP\\OneDrive\\Documents\\Eduardo Toledo\\MIAD\\final_project\\source\\.venv\\Lib\\site-packages\\~%format-5.10.3.dist-info due to invalid metadata entry 'name'\n",
      "WARNING: Skipping c:\\Users\\HP\\OneDrive\\Documents\\Eduardo Toledo\\MIAD\\final_project\\source\\.venv\\Lib\\site-packages\\~-format-5.10.3.dist-info due to invalid metadata entry 'name'\n",
      "WARNING: Skipping c:\\Users\\HP\\OneDrive\\Documents\\Eduardo Toledo\\MIAD\\final_project\\source\\.venv\\Lib\\site-packages\\~.format-5.10.3.dist-info due to invalid metadata entry 'name'\n",
      "WARNING: Skipping c:\\Users\\HP\\OneDrive\\Documents\\Eduardo Toledo\\MIAD\\final_project\\source\\.venv\\Lib\\site-packages\\~0format-5.10.3.dist-info due to invalid metadata entry 'name'\n",
      "WARNING: Skipping c:\\Users\\HP\\OneDrive\\Documents\\Eduardo Toledo\\MIAD\\final_project\\source\\.venv\\Lib\\site-packages\\~1format-5.10.3.dist-info due to invalid metadata entry 'name'\n",
      "WARNING: Skipping c:\\Users\\HP\\OneDrive\\Documents\\Eduardo Toledo\\MIAD\\final_project\\source\\.venv\\Lib\\site-packages\\~2format-5.10.3.dist-info due to invalid metadata entry 'name'\n",
      "WARNING: Skipping c:\\Users\\HP\\OneDrive\\Documents\\Eduardo Toledo\\MIAD\\final_project\\source\\.venv\\Lib\\site-packages\\~=format-5.10.3.dist-info due to invalid metadata entry 'name'\n",
      "WARNING: Skipping c:\\Users\\HP\\OneDrive\\Documents\\Eduardo Toledo\\MIAD\\final_project\\source\\.venv\\Lib\\site-packages\\~bformat-5.10.3.dist-info due to invalid metadata entry 'name'\n",
      "WARNING: Skipping c:\\Users\\HP\\OneDrive\\Documents\\Eduardo Toledo\\MIAD\\final_project\\source\\.venv\\Lib\\site-packages\\~~format-5.10.3.dist-info due to invalid metadata entry 'name'\n"
     ]
    }
   ],
   "source": [
    "pip install pandas unicode matplotlib seaborn scikit-learn plotly scipy dask[complete]"
   ]
  },
  {
   "cell_type": "code",
   "execution_count": 8,
   "metadata": {},
   "outputs": [],
   "source": [
    "import pandas as pd\n",
    "pd.set_option(\"mode.copy_on_write\", True)"
   ]
  },
  {
   "cell_type": "code",
   "execution_count": 7,
   "metadata": {},
   "outputs": [],
   "source": [
    "import os\n",
    "\n",
    "# Set LOKY_MAX_CPU_COUNT environment variable to the number of cores \n",
    "os.environ['LOKY_MAX_CPU_COUNT'] = '4'  "
   ]
  },
  {
   "cell_type": "markdown",
   "metadata": {},
   "source": [
    "# 1. Analysis of  Silhouette Score using ISOLATION FOREST\n",
    "\n",
    "The objective is to measure How well the inliers were separated from the outliers. In this analyses, we consider 2 clusters (Inlier and Outlier) and hence, the Silhoutte score comes to play an important role."
   ]
  },
  {
   "cell_type": "markdown",
   "metadata": {},
   "source": [
    "## 1.1 Sillhoute Score by Global Model"
   ]
  },
  {
   "cell_type": "code",
   "execution_count": 17,
   "metadata": {},
   "outputs": [
    {
     "name": "stdout",
     "output_type": "stream",
     "text": [
      "Silhouette Score Isolation Forest 0.43179600271244606\n"
     ]
    }
   ],
   "source": [
    "import dask.dataframe as dd\n",
    "from sklearn.metrics import silhouette_score\n",
    "from sklearn.preprocessing import StandardScaler\n",
    "\n",
    "# Load the data with Dask\n",
    "isoforest_df = dd.read_csv('../data/output/consumo_datamart_gold_isoforest.csv', usecols= final_features + ['Anomaly_Global'])\n",
    "\n",
    "# Convert to Dask DataFrame\n",
    "isoforest_ddf = isoforest_df.compute()\n",
    "\n",
    "scaler = StandardScaler()\n",
    "\n",
    "# Scale the features for IsoForest dataset\n",
    "isoforest_ddf[features] = scaler.fit_transform(isoforest_ddf[features])\n",
    "labels_iso = isoforest_ddf['Anomaly_Global']\n",
    "\n",
    "# Compute the silhouette scores\n",
    "silhouette_score_iso = silhouette_score(isoforest_ddf[features], labels_iso)\n",
    "print(f\"Silhouette Score Isolation Forest {silhouette_score_iso}\")\n"
   ]
  },
  {
   "cell_type": "markdown",
   "metadata": {},
   "source": [
    "## 1.2 Sillhouete Score by Cluster"
   ]
  },
  {
   "cell_type": "code",
   "execution_count": 13,
   "metadata": {},
   "outputs": [
    {
     "name": "stdout",
     "output_type": "stream",
     "text": [
      "Silhouette Score Isolation Forest 0.3253967071414611 Cluster 0\n",
      "Silhouette Score Isolation Forest 0.28394063526151 Cluster 1\n",
      "Silhouette Score Isolation Forest 0.4274799830516023 Cluster 2\n",
      "Silhouette Score Isolation Forest 0.2661928477662486 Cluster 3\n",
      "Mean of Sillhoutte Index 0.3257525433052055 \n"
     ]
    }
   ],
   "source": [
    "import pandas as pd\n",
    "from sklearn.metrics import silhouette_score\n",
    "from sklearn.preprocessing import StandardScaler\n",
    "\n",
    "\n",
    "\n",
    "features = ['Active_energy', 'Reactive_energy', 'Voltaje_FA', 'Voltaje_FC', 'Factor_Potencia']\n",
    "time_features= ['Dia_Sin', 'Dia_Cos','Hora_Sin','Hora_Cos','Mes_Sin','Mes_Cos']\n",
    "final_features= features + time_features\n",
    "# Load the data\n",
    "df = pd.read_csv('../data/output/consumo_datamart_gold_isoforest.csv')\n",
    "\n",
    "cluster_silhouette_score_iso=[]\n",
    "for cluster in range(0,4):\n",
    "    isoforest_df = df[df['Cluster']==cluster]\n",
    "    scaler = StandardScaler()\n",
    "    # Scale the features for IsoForest dataset\n",
    "    isoforest_df[features] = scaler.fit_transform(isoforest_df[features])\n",
    "    labels_iso = isoforest_df['Anomaly_Cluster']\n",
    "    # Compute the silhouette scores\n",
    "    silhouette_score_iso = silhouette_score(isoforest_df[final_features], labels_iso)\n",
    "    print(f\"Silhouette Score Isolation Forest {silhouette_score_iso} Cluster {cluster}\")\n",
    "    cluster_silhouette_score_iso.append(silhouette_score_iso)\n",
    "print(f'Mean of Sillhoutte Index {sum(cluster_silhouette_score_iso)/len(cluster_silhouette_score_iso)} ')\n",
    "   \n",
    "    \n",
    "\n",
    "\n"
   ]
  },
  {
   "cell_type": "markdown",
   "metadata": {},
   "source": [
    "## 1.3 Sillhouete Score by Sector "
   ]
  },
  {
   "cell_type": "code",
   "execution_count": 29,
   "metadata": {},
   "outputs": [
    {
     "name": "stdout",
     "output_type": "stream",
     "text": [
      "Requirement already satisfied: pyarrow in c:\\users\\hp\\onedrive\\documents\\eduardo toledo\\miad\\final_project\\source\\.venv\\lib\\site-packages (16.0.0)\n",
      "Requirement already satisfied: numpy>=1.16.6 in c:\\users\\hp\\onedrive\\documents\\eduardo toledo\\miad\\final_project\\source\\.venv\\lib\\site-packages (from pyarrow) (1.26.4)\n",
      "Note: you may need to restart the kernel to use updated packages.\n"
     ]
    },
    {
     "name": "stderr",
     "output_type": "stream",
     "text": [
      "WARNING: Skipping c:\\Users\\HP\\OneDrive\\Documents\\Eduardo Toledo\\MIAD\\final_project\\source\\.venv\\Lib\\site-packages\\~%format-5.10.3.dist-info due to invalid metadata entry 'name'\n",
      "WARNING: Skipping c:\\Users\\HP\\OneDrive\\Documents\\Eduardo Toledo\\MIAD\\final_project\\source\\.venv\\Lib\\site-packages\\~-format-5.10.3.dist-info due to invalid metadata entry 'name'\n",
      "WARNING: Skipping c:\\Users\\HP\\OneDrive\\Documents\\Eduardo Toledo\\MIAD\\final_project\\source\\.venv\\Lib\\site-packages\\~.format-5.10.3.dist-info due to invalid metadata entry 'name'\n",
      "WARNING: Skipping c:\\Users\\HP\\OneDrive\\Documents\\Eduardo Toledo\\MIAD\\final_project\\source\\.venv\\Lib\\site-packages\\~0format-5.10.3.dist-info due to invalid metadata entry 'name'\n",
      "WARNING: Skipping c:\\Users\\HP\\OneDrive\\Documents\\Eduardo Toledo\\MIAD\\final_project\\source\\.venv\\Lib\\site-packages\\~1format-5.10.3.dist-info due to invalid metadata entry 'name'\n",
      "WARNING: Skipping c:\\Users\\HP\\OneDrive\\Documents\\Eduardo Toledo\\MIAD\\final_project\\source\\.venv\\Lib\\site-packages\\~2format-5.10.3.dist-info due to invalid metadata entry 'name'\n",
      "WARNING: Skipping c:\\Users\\HP\\OneDrive\\Documents\\Eduardo Toledo\\MIAD\\final_project\\source\\.venv\\Lib\\site-packages\\~=format-5.10.3.dist-info due to invalid metadata entry 'name'\n",
      "WARNING: Skipping c:\\Users\\HP\\OneDrive\\Documents\\Eduardo Toledo\\MIAD\\final_project\\source\\.venv\\Lib\\site-packages\\~bformat-5.10.3.dist-info due to invalid metadata entry 'name'\n",
      "WARNING: Skipping c:\\Users\\HP\\OneDrive\\Documents\\Eduardo Toledo\\MIAD\\final_project\\source\\.venv\\Lib\\site-packages\\~~format-5.10.3.dist-info due to invalid metadata entry 'name'\n",
      "WARNING: Skipping c:\\Users\\HP\\OneDrive\\Documents\\Eduardo Toledo\\MIAD\\final_project\\source\\.venv\\Lib\\site-packages\\~%format-5.10.3.dist-info due to invalid metadata entry 'name'\n",
      "WARNING: Skipping c:\\Users\\HP\\OneDrive\\Documents\\Eduardo Toledo\\MIAD\\final_project\\source\\.venv\\Lib\\site-packages\\~-format-5.10.3.dist-info due to invalid metadata entry 'name'\n",
      "WARNING: Skipping c:\\Users\\HP\\OneDrive\\Documents\\Eduardo Toledo\\MIAD\\final_project\\source\\.venv\\Lib\\site-packages\\~.format-5.10.3.dist-info due to invalid metadata entry 'name'\n",
      "WARNING: Skipping c:\\Users\\HP\\OneDrive\\Documents\\Eduardo Toledo\\MIAD\\final_project\\source\\.venv\\Lib\\site-packages\\~0format-5.10.3.dist-info due to invalid metadata entry 'name'\n",
      "WARNING: Skipping c:\\Users\\HP\\OneDrive\\Documents\\Eduardo Toledo\\MIAD\\final_project\\source\\.venv\\Lib\\site-packages\\~1format-5.10.3.dist-info due to invalid metadata entry 'name'\n",
      "WARNING: Skipping c:\\Users\\HP\\OneDrive\\Documents\\Eduardo Toledo\\MIAD\\final_project\\source\\.venv\\Lib\\site-packages\\~2format-5.10.3.dist-info due to invalid metadata entry 'name'\n",
      "WARNING: Skipping c:\\Users\\HP\\OneDrive\\Documents\\Eduardo Toledo\\MIAD\\final_project\\source\\.venv\\Lib\\site-packages\\~=format-5.10.3.dist-info due to invalid metadata entry 'name'\n",
      "WARNING: Skipping c:\\Users\\HP\\OneDrive\\Documents\\Eduardo Toledo\\MIAD\\final_project\\source\\.venv\\Lib\\site-packages\\~bformat-5.10.3.dist-info due to invalid metadata entry 'name'\n",
      "WARNING: Skipping c:\\Users\\HP\\OneDrive\\Documents\\Eduardo Toledo\\MIAD\\final_project\\source\\.venv\\Lib\\site-packages\\~~format-5.10.3.dist-info due to invalid metadata entry 'name'\n",
      "WARNING: Skipping c:\\Users\\HP\\OneDrive\\Documents\\Eduardo Toledo\\MIAD\\final_project\\source\\.venv\\Lib\\site-packages\\~%format-5.10.3.dist-info due to invalid metadata entry 'name'\n",
      "WARNING: Skipping c:\\Users\\HP\\OneDrive\\Documents\\Eduardo Toledo\\MIAD\\final_project\\source\\.venv\\Lib\\site-packages\\~-format-5.10.3.dist-info due to invalid metadata entry 'name'\n",
      "WARNING: Skipping c:\\Users\\HP\\OneDrive\\Documents\\Eduardo Toledo\\MIAD\\final_project\\source\\.venv\\Lib\\site-packages\\~.format-5.10.3.dist-info due to invalid metadata entry 'name'\n",
      "WARNING: Skipping c:\\Users\\HP\\OneDrive\\Documents\\Eduardo Toledo\\MIAD\\final_project\\source\\.venv\\Lib\\site-packages\\~0format-5.10.3.dist-info due to invalid metadata entry 'name'\n",
      "WARNING: Skipping c:\\Users\\HP\\OneDrive\\Documents\\Eduardo Toledo\\MIAD\\final_project\\source\\.venv\\Lib\\site-packages\\~1format-5.10.3.dist-info due to invalid metadata entry 'name'\n",
      "WARNING: Skipping c:\\Users\\HP\\OneDrive\\Documents\\Eduardo Toledo\\MIAD\\final_project\\source\\.venv\\Lib\\site-packages\\~2format-5.10.3.dist-info due to invalid metadata entry 'name'\n",
      "WARNING: Skipping c:\\Users\\HP\\OneDrive\\Documents\\Eduardo Toledo\\MIAD\\final_project\\source\\.venv\\Lib\\site-packages\\~=format-5.10.3.dist-info due to invalid metadata entry 'name'\n",
      "WARNING: Skipping c:\\Users\\HP\\OneDrive\\Documents\\Eduardo Toledo\\MIAD\\final_project\\source\\.venv\\Lib\\site-packages\\~bformat-5.10.3.dist-info due to invalid metadata entry 'name'\n",
      "WARNING: Skipping c:\\Users\\HP\\OneDrive\\Documents\\Eduardo Toledo\\MIAD\\final_project\\source\\.venv\\Lib\\site-packages\\~~format-5.10.3.dist-info due to invalid metadata entry 'name'\n",
      "WARNING: Skipping c:\\Users\\HP\\OneDrive\\Documents\\Eduardo Toledo\\MIAD\\final_project\\source\\.venv\\Lib\\site-packages\\~%format-5.10.3.dist-info due to invalid metadata entry 'name'\n",
      "WARNING: Skipping c:\\Users\\HP\\OneDrive\\Documents\\Eduardo Toledo\\MIAD\\final_project\\source\\.venv\\Lib\\site-packages\\~-format-5.10.3.dist-info due to invalid metadata entry 'name'\n",
      "WARNING: Skipping c:\\Users\\HP\\OneDrive\\Documents\\Eduardo Toledo\\MIAD\\final_project\\source\\.venv\\Lib\\site-packages\\~.format-5.10.3.dist-info due to invalid metadata entry 'name'\n",
      "WARNING: Skipping c:\\Users\\HP\\OneDrive\\Documents\\Eduardo Toledo\\MIAD\\final_project\\source\\.venv\\Lib\\site-packages\\~0format-5.10.3.dist-info due to invalid metadata entry 'name'\n",
      "WARNING: Skipping c:\\Users\\HP\\OneDrive\\Documents\\Eduardo Toledo\\MIAD\\final_project\\source\\.venv\\Lib\\site-packages\\~1format-5.10.3.dist-info due to invalid metadata entry 'name'\n",
      "WARNING: Skipping c:\\Users\\HP\\OneDrive\\Documents\\Eduardo Toledo\\MIAD\\final_project\\source\\.venv\\Lib\\site-packages\\~2format-5.10.3.dist-info due to invalid metadata entry 'name'\n",
      "WARNING: Skipping c:\\Users\\HP\\OneDrive\\Documents\\Eduardo Toledo\\MIAD\\final_project\\source\\.venv\\Lib\\site-packages\\~=format-5.10.3.dist-info due to invalid metadata entry 'name'\n",
      "WARNING: Skipping c:\\Users\\HP\\OneDrive\\Documents\\Eduardo Toledo\\MIAD\\final_project\\source\\.venv\\Lib\\site-packages\\~bformat-5.10.3.dist-info due to invalid metadata entry 'name'\n",
      "WARNING: Skipping c:\\Users\\HP\\OneDrive\\Documents\\Eduardo Toledo\\MIAD\\final_project\\source\\.venv\\Lib\\site-packages\\~~format-5.10.3.dist-info due to invalid metadata entry 'name'\n"
     ]
    }
   ],
   "source": [
    "pip install pyarrow --upgrade"
   ]
  },
  {
   "cell_type": "code",
   "execution_count": 1,
   "metadata": {},
   "outputs": [
    {
     "name": "stdout",
     "output_type": "stream",
     "text": [
      "Silhouette Score Isolation Forest 0.4009953665386885 Sector elaboracion_cacao_chocolate_productos_confiteria\n",
      "Silhouette Score Isolation Forest 0.2782406464546849 Sector cultivo_frutos_nueces_arboles_arbustos\n",
      "Silhouette Score Isolation Forest 0.2668525232590551 Sector cultivo_arboles_frutales_nueces\n",
      "Silhouette Score Isolation Forest 0.2683451478491312 Sector cultivo_hortalizas_melones_raices_tuberculos\n",
      "Silhouette Score Isolation Forest 0.22823935817319818 Sector captacion_tratamiento_distribucion_agua\n",
      "Silhouette Score Isolation Forest 0.25844327932450545 Sector cultivo_hortalizas\n",
      "Silhouette Score Isolation Forest 0.21927728254699647 Sector venta_mayor_metales_minerales_metaliferos\n",
      "Mean of Silhouette Index 0.2743419434494657\n"
     ]
    }
   ],
   "source": [
    "import dask.dataframe as dd\n",
    "from sklearn.metrics import silhouette_score\n",
    "from sklearn.preprocessing import StandardScaler\n",
    "import pandas as pd\n",
    "\n",
    "# Define your features\n",
    "features = ['Active_energy', 'Reactive_energy', 'Voltaje_FA', 'Voltaje_FC', 'Factor_Potencia']\n",
    "time_features = ['Dia_Sin', 'Dia_Cos', 'Hora_Sin', 'Hora_Cos', 'Mes_Sin', 'Mes_Cos']\n",
    "final_features = features + time_features\n",
    "\n",
    "# Load the data with Dask\n",
    "ddf = dd.read_csv('../data/output/consumo_datamart_gold_isoforest.csv', usecols=final_features + ['Anomaly_Sector', 'Sector_Economico'])\n",
    "\n",
    "# Get unique sectors (requires computation)\n",
    "sectors = ddf['Sector_Economico'].unique().compute().tolist()\n",
    "\n",
    "sector_silhouette_score_iso = []\n",
    "\n",
    "for sector in sectors:\n",
    "    isoforest_ddf = ddf[ddf['Sector_Economico'] == sector].compute()\n",
    "    \n",
    "    scaler = StandardScaler()\n",
    "    \n",
    "    # Scale the features\n",
    "    isoforest_ddf[features] = scaler.fit_transform(isoforest_ddf[features])\n",
    "    labels_iso = isoforest_ddf['Anomaly_Sector']\n",
    "    \n",
    "    # Compute the silhouette scores\n",
    "    silhouette_score_iso = silhouette_score(isoforest_ddf[final_features], labels_iso)\n",
    "    print(f\"Silhouette Score Isolation Forest {silhouette_score_iso} Sector {sector}\")\n",
    "    sector_silhouette_score_iso.append(silhouette_score_iso)\n",
    "\n",
    "mean_silhouette_score = sum(sector_silhouette_score_iso) / len(sector_silhouette_score_iso)\n",
    "print(f'Mean of Silhouette Index {mean_silhouette_score}')\n"
   ]
  },
  {
   "cell_type": "markdown",
   "metadata": {},
   "source": [
    "# 2. Silhouette Analysis  using LOCAL OUTLIER FACTOR\n",
    "\n",
    "The objective is to measure How well the inliers were separated from the outliers. In this analyses, we consider 2 clusters (Inlier and Outlier) and hence, the Silhoutte score comes to play an important role."
   ]
  },
  {
   "cell_type": "markdown",
   "metadata": {},
   "source": [
    "## 2.1 Silhoute Score by Global Model"
   ]
  },
  {
   "cell_type": "code",
   "execution_count": 3,
   "metadata": {},
   "outputs": [
    {
     "name": "stdout",
     "output_type": "stream",
     "text": [
      "Silhouette Score LOF -0.021587352920776137\n"
     ]
    }
   ],
   "source": [
    "import dask.dataframe as dd\n",
    "from sklearn.metrics import silhouette_score\n",
    "from sklearn.preprocessing import StandardScaler\n",
    "\n",
    "# Load the data with Dask\n",
    "lof_df = dd.read_csv('../data/output/consumo_datamart_gold_lof.csv', usecols= final_features + ['Anomaly_Global'])\n",
    "\n",
    "# Convert to Dask DataFrame\n",
    "lof_ddf = lof_df.compute()\n",
    "\n",
    "scaler = StandardScaler()\n",
    "\n",
    "# Scale the features\n",
    "lof_ddf[features] = scaler.fit_transform(lof_ddf[features])\n",
    "labels_iso = lof_ddf['Anomaly_Global']\n",
    "\n",
    "# Compute the silhouette scores\n",
    "silhouette_score_lof = silhouette_score(lof_ddf[features], labels_iso)\n",
    "print(f\"Silhouette Score LOF {silhouette_score_lof}\")\n"
   ]
  },
  {
   "cell_type": "markdown",
   "metadata": {},
   "source": [
    "## 2.2 Sillhoute Score by Sector"
   ]
  },
  {
   "cell_type": "code",
   "execution_count": 6,
   "metadata": {},
   "outputs": [
    {
     "name": "stdout",
     "output_type": "stream",
     "text": [
      "Silhouette Score LOF 0.01660629892893317 Sector elaboracion_cacao_chocolate_productos_confiteria\n",
      "Silhouette Score LOF 0.00985094324804361 Sector cultivo_frutos_nueces_arboles_arbustos\n",
      "Silhouette Score LOF 0.0067805564135244994 Sector cultivo_arboles_frutales_nueces\n",
      "Silhouette Score LOF 0.1386379142759033 Sector cultivo_hortalizas_melones_raices_tuberculos\n",
      "Silhouette Score LOF 0.05721223434210363 Sector captacion_tratamiento_distribucion_agua\n",
      "Silhouette Score LOF 0.1591449417275712 Sector cultivo_hortalizas\n",
      "Silhouette Score LOF 0.05794124569561515 Sector venta_mayor_metales_minerales_metaliferos\n",
      "Mean of Silhouette Index 0.06373916209024208\n"
     ]
    }
   ],
   "source": [
    "import dask.dataframe as dd\n",
    "from sklearn.metrics import silhouette_score\n",
    "from sklearn.preprocessing import StandardScaler\n",
    "import pandas as pd\n",
    "\n",
    "# Define your features\n",
    "features = ['Active_energy', 'Reactive_energy', 'Voltaje_FA', 'Voltaje_FC', 'Factor_Potencia']\n",
    "time_features = ['Dia_Sin', 'Dia_Cos', 'Hora_Sin', 'Hora_Cos', 'Mes_Sin', 'Mes_Cos']\n",
    "final_features = features + time_features\n",
    "\n",
    "# Load the data with Dask\n",
    "ddf = dd.read_csv('../data/output/consumo_datamart_gold_lof.csv', usecols=final_features + ['Anomaly_Sector', 'Sector_Economico'])\n",
    "\n",
    "# Get unique sectors (requires computation)\n",
    "sectors = ddf['Sector_Economico'].unique().compute().tolist()\n",
    "\n",
    "sector_silhouette_score_lof = []\n",
    "\n",
    "for sector in sectors:\n",
    "    lof_ddf = ddf[ddf['Sector_Economico'] == sector].compute()\n",
    "    \n",
    "    scaler = StandardScaler()\n",
    "    \n",
    "    # Scale the features \n",
    "    lof_ddf[features] = scaler.fit_transform(lof_ddf[features])\n",
    "    labels_lof= lof_ddf['Anomaly_Sector']\n",
    "    \n",
    "    # Compute the silhouette scores\n",
    "    silhouette_score_lof = silhouette_score(lof_ddf[final_features], labels_lof)\n",
    "    print(f\"Silhouette Score LOF {silhouette_score_lof} Sector {sector}\")\n",
    "    sector_silhouette_score_lof.append(silhouette_score_lof)\n",
    "\n",
    "mean_silhouette_score = sum(sector_silhouette_score_lof) / len(sector_silhouette_score_lof)\n",
    "print(f'Mean of Silhouette Index {mean_silhouette_score}')\n"
   ]
  },
  {
   "cell_type": "markdown",
   "metadata": {},
   "source": [
    "## 2.3 Sillhoute Score by Cluster"
   ]
  },
  {
   "cell_type": "code",
   "execution_count": 9,
   "metadata": {},
   "outputs": [
    {
     "name": "stdout",
     "output_type": "stream",
     "text": [
      "Silhouette Score LOF 0.05088958722180204 Cluster 0\n",
      "Silhouette Score LOF 0.01250304587755965 Cluster 1\n",
      "Silhouette Score LOF 0.012898316619281504 Cluster 2\n",
      "Silhouette Score LOF 0.013035491158995811 Cluster 3\n",
      "Mean of Sillhoutte Index 0.022331610219409753 \n"
     ]
    }
   ],
   "source": [
    "import pandas as pd\n",
    "from sklearn.metrics import silhouette_score\n",
    "from sklearn.preprocessing import StandardScaler\n",
    "\n",
    "\n",
    "\n",
    "features = ['Active_energy', 'Reactive_energy', 'Voltaje_FA', 'Voltaje_FC', 'Factor_Potencia']\n",
    "time_features= ['Dia_Sin', 'Dia_Cos','Hora_Sin','Hora_Cos','Mes_Sin','Mes_Cos']\n",
    "final_features= features + time_features\n",
    "# Load the data\n",
    "df = pd.read_csv('../data/output/consumo_datamart_gold_lof.csv')\n",
    "\n",
    "cluster_silhouette_score_lof=[]\n",
    "for cluster in range(0,4):\n",
    "    lof_df = df[df['Cluster']==cluster]\n",
    "    scaler = StandardScaler()\n",
    "    # Scale the features \n",
    "    lof_df[features] = scaler.fit_transform(lof_df[features])\n",
    "    labels_lof = lof_df['Anomaly_Cluster']\n",
    "    # Compute the silhouette scores\n",
    "    silhouette_score_lof = silhouette_score(lof_df[final_features], labels_lof)\n",
    "    print(f\"Silhouette Score LOF {silhouette_score_lof} Cluster {cluster}\")\n",
    "    cluster_silhouette_score_lof.append(silhouette_score_lof)\n",
    "print(f'Mean of Sillhoutte Index {sum(cluster_silhouette_score_lof)/len(cluster_silhouette_score_lof)} ')\n",
    "   \n",
    "    \n",
    "\n",
    "\n"
   ]
  },
  {
   "cell_type": "markdown",
   "metadata": {},
   "source": [
    "# 3. Silhouette Analysis  using OneClassSVM\n",
    "\n",
    "\n",
    "The objective is to measure How well the inliers were separated from the outliers. In this analyses, we consider 2 clusters (Inlier and Outlier) and hence, the Silhoutte score comes to play an important role."
   ]
  },
  {
   "cell_type": "markdown",
   "metadata": {},
   "source": [
    "## 3.1 Silhouette Score of Global Model"
   ]
  },
  {
   "cell_type": "code",
   "execution_count": 4,
   "metadata": {},
   "outputs": [
    {
     "name": "stdout",
     "output_type": "stream",
     "text": [
      "Silhouette Score OCSVM 0.3926740717288932\n"
     ]
    }
   ],
   "source": [
    "import dask.dataframe as dd\n",
    "from sklearn.metrics import silhouette_score\n",
    "from sklearn.preprocessing import StandardScaler\n",
    "\n",
    "# Load the data with Dask\n",
    "ocsvm_df = dd.read_csv('../data/output/consumo_datamart_gold_ocsvm.csv', usecols= final_features + ['Anomaly_Global'])\n",
    "\n",
    "# Convert to Dask DataFrame\n",
    "ocsvm_ddf = ocsvm_df.compute()\n",
    "\n",
    "scaler = StandardScaler()\n",
    "\n",
    "# Scale the features \n",
    "ocsvm_ddf[features] = scaler.fit_transform(ocsvm_ddf[features])\n",
    "labels_ocsvm = ocsvm_ddf['Anomaly_Global']\n",
    "\n",
    "# Compute the silhouette scores\n",
    "silhouette_score_ocsvm = silhouette_score(ocsvm_ddf[features], labels_ocsvm)\n",
    "print(f\"Silhouette Score OCSVM {silhouette_score_ocsvm}\")\n"
   ]
  },
  {
   "cell_type": "markdown",
   "metadata": {},
   "source": [
    "## 3.2 Silhouette Score  by Sector"
   ]
  },
  {
   "cell_type": "code",
   "execution_count": 11,
   "metadata": {},
   "outputs": [
    {
     "name": "stdout",
     "output_type": "stream",
     "text": [
      "Silhouette Score LOF 0.3191913838716725 Sector elaboracion_cacao_chocolate_productos_confiteria\n",
      "Silhouette Score LOF 0.29168873230704456 Sector cultivo_frutos_nueces_arboles_arbustos\n",
      "Silhouette Score LOF 0.24405273573976133 Sector cultivo_arboles_frutales_nueces\n",
      "Silhouette Score LOF 0.2427527381876423 Sector cultivo_hortalizas_melones_raices_tuberculos\n",
      "Silhouette Score LOF 0.23991634045456334 Sector captacion_tratamiento_distribucion_agua\n",
      "Silhouette Score LOF 0.2301577369143608 Sector cultivo_hortalizas\n",
      "Silhouette Score LOF 0.2017139464711203 Sector venta_mayor_metales_minerales_metaliferos\n",
      "Mean of Silhouette Index 0.25278194484945216\n"
     ]
    }
   ],
   "source": [
    "import dask.dataframe as dd\n",
    "from sklearn.metrics import silhouette_score\n",
    "from sklearn.preprocessing import StandardScaler\n",
    "import pandas as pd\n",
    "\n",
    "features = ['Active_energy', 'Reactive_energy', 'Voltaje_FA', 'Voltaje_FC', 'Factor_Potencia']\n",
    "time_features = ['Dia_Sin', 'Dia_Cos', 'Hora_Sin', 'Hora_Cos', 'Mes_Sin', 'Mes_Cos']\n",
    "final_features = features + time_features\n",
    "\n",
    "# Load the data with Dask\n",
    "ddf = dd.read_csv('../data/output/consumo_datamart_gold_ocsvm.csv', usecols=final_features + ['Anomaly_Sector', 'Sector_Economico'])\n",
    "\n",
    "# Get unique sectors (requires computation)\n",
    "sectors = ddf['Sector_Economico'].unique().compute().tolist()\n",
    "\n",
    "sector_silhouette_score_ocsvm = []\n",
    "\n",
    "for sector in sectors:\n",
    "    ocsvm_ddf = ddf[ddf['Sector_Economico'] == sector].compute()\n",
    "    \n",
    "    scaler = StandardScaler()\n",
    "    \n",
    "    # Scale the features \n",
    "    ocsvm_ddf[features] = scaler.fit_transform(ocsvm_ddf[features])\n",
    "    labels_ocsvm= ocsvm_ddf['Anomaly_Sector']\n",
    "    \n",
    "    # Compute the silhouette scores\n",
    "    silhouette_score_ocsvm = silhouette_score(ocsvm_ddf[final_features], labels_ocsvm)\n",
    "    print(f\"Silhouette Score LOF {silhouette_score_ocsvm} Sector {sector}\")\n",
    "    sector_silhouette_score_ocsvm.append(silhouette_score_ocsvm)\n",
    "\n",
    "mean_silhouette_score = sum(sector_silhouette_score_ocsvm) / len(sector_silhouette_score_ocsvm)\n",
    "print(f'Mean of Silhouette Index {mean_silhouette_score}')\n"
   ]
  },
  {
   "cell_type": "markdown",
   "metadata": {},
   "source": [
    "## 3.3 Silhouette Score by Cluster"
   ]
  },
  {
   "cell_type": "code",
   "execution_count": 13,
   "metadata": {},
   "outputs": [
    {
     "name": "stdout",
     "output_type": "stream",
     "text": [
      "Silhouette Score OCSVM 0.321736158797977 Cluster 0\n",
      "Silhouette Score OCSVM 0.25675689668647456 Cluster 1\n",
      "Silhouette Score OCSVM 0.3468984809005893 Cluster 2\n",
      "Silhouette Score OCSVM 0.24380929791265726 Cluster 3\n",
      "Mean of Silhouette Index 0.2923002085744245\n"
     ]
    }
   ],
   "source": [
    "import dask.dataframe as dd\n",
    "from sklearn.metrics import silhouette_score\n",
    "from sklearn.preprocessing import StandardScaler\n",
    "import pandas as pd\n",
    "\n",
    "# Define your features\n",
    "features = ['Active_energy', 'Reactive_energy', 'Voltaje_FA', 'Voltaje_FC', 'Factor_Potencia']\n",
    "time_features = ['Dia_Sin', 'Dia_Cos', 'Hora_Sin', 'Hora_Cos', 'Mes_Sin', 'Mes_Cos']\n",
    "final_features = features + time_features\n",
    "\n",
    "# Load the data with Dask\n",
    "ddf = dd.read_csv('../data/output/consumo_datamart_gold_ocsvm.csv')\n",
    "\n",
    "cluster_silhouette_score_ocsvm = []\n",
    "\n",
    "for cluster in range(0, 4):\n",
    "    ocsvm_ddf = ddf[ddf['Cluster'] == cluster].compute()\n",
    "    \n",
    "    scaler = StandardScaler()\n",
    "    \n",
    "    # Scale the features \n",
    "    ocsvm_ddf[features] = scaler.fit_transform(ocsvm_ddf[features])\n",
    "    labels_ocsvm = ocsvm_ddf['Anomaly_Cluster']\n",
    "    \n",
    "    # Compute the silhouette scores\n",
    "    silhouette_score_ocsvm = silhouette_score(ocsvm_ddf[final_features], labels_ocsvm)\n",
    "    print(f\"Silhouette Score OCSVM {silhouette_score_ocsvm} Cluster {cluster}\")\n",
    "    cluster_silhouette_score_ocsvm.append(silhouette_score_ocsvm)\n",
    "\n",
    "mean_silhouette_score = sum(cluster_silhouette_score_ocsvm) / len(cluster_silhouette_score_ocsvm)\n",
    "print(f'Mean of Silhouette Index {mean_silhouette_score}')\n"
   ]
  },
  {
   "cell_type": "markdown",
   "metadata": {},
   "source": [
    "# 4. Calculation Average Silhouette Score by Cluster using DBSCAN\n",
    "\n",
    "\n",
    "The objective is to measure How well the inliers were separated from the outliers. In this analyses, we consider 2 clusters (Inlier and Outlier) and hence, the Silhoutte score comes to play an important role."
   ]
  },
  {
   "cell_type": "code",
   "execution_count": 2,
   "metadata": {},
   "outputs": [
    {
     "name": "stdout",
     "output_type": "stream",
     "text": [
      "Silhouette Score DBScan 0.10099289782890346\n"
     ]
    }
   ],
   "source": [
    "import pandas as pd\n",
    "from sklearn.metrics import silhouette_score\n",
    "from sklearn.preprocessing import StandardScaler\n",
    "\n",
    "\n",
    "# Define the feature columns\n",
    "features = ['Active_energy', 'Reactive_energy', 'Voltaje_FA', 'Voltaje_FC', 'Factor_Potencia']\n",
    "time_features= ['Dia_Sin', 'Dia_Cos','Hora_Sin','Hora_Cos','Mes_Sin','Mes_Cos']\n",
    "final_features= features + time_features\n",
    "# Load the data\n",
    "dbscan_df = pd.read_csv('../data/output/consumo_datamart_gold_dbscan.csv', usecols= final_features + ['Anomaly_Cluster'])\n",
    "\n",
    "\n",
    "\n",
    "# Initialize the scaler\n",
    "scaler = StandardScaler()\n",
    "\n",
    "# Scale the features for dbscan_df dataset\n",
    "dbscan_df[features] = scaler.fit_transform(dbscan_df[features])\n",
    "labels_dbscan = dbscan_df['Anomaly_Cluster']\n",
    "\n",
    "\n",
    "# Compute the silhouette scores\n",
    "silhouette_score_dbscan = silhouette_score(dbscan_df, labels_dbscan)\n",
    "print(f\"Silhouette Score DBScan {silhouette_score_dbscan}\")\n",
    "\n",
    "\n"
   ]
  },
  {
   "cell_type": "markdown",
   "metadata": {},
   "source": [
    "# 5 Selection of anomaly detection model\n",
    "\n",
    "\n",
    "<table>\n",
    "<tr> \n",
    "  <th>Model</th>\n",
    "  <th> Silhouette Score</th>\n",
    "</tr>\n",
    "<tr style=\"background-color:blue;\">\n",
    "  <td>Isolation Forest / Unique Global Model</td>\n",
    "  <td>0.4317</td>\n",
    "</tr>\n",
    "<tr>\n",
    "  <td>Isolation Forest / Models by Sector</td>\n",
    "  <td>0.2743</td>\n",
    "</tr>\n",
    "<tr>\n",
    "  <td>Isolation Forest / Models by Cluster</td>\n",
    "  <td>0.3257</td>\n",
    "</tr>\n",
    "<tr>\n",
    "  <td>Local Outlier Factor / Unique Global Model</td>\n",
    "  <td>-0.021</td>\n",
    "</tr>\n",
    "<tr>\n",
    "  <td>Local Outlier Factor / Models by Sector</td>\n",
    "  <td>0.063</td>\n",
    "</tr>\n",
    "<tr>\n",
    "  <td>Local Outlier Factor / Models by Cluster</td>\n",
    "  <td>0.023</td>\n",
    "</tr>\n",
    "\n",
    "<tr>\n",
    "  <td>OneClassSVM / Unique Global Model</td>\n",
    "  <td>0.3926</td>\n",
    "</tr>\n",
    "<tr>\n",
    "  <td>OneClassSVM / Models by Sector</td>\n",
    "  <td>0.2527</td>\n",
    "</tr>\n",
    "<tr>\n",
    "  <td>OneClassSVM / Models by Cluster</td>\n",
    "  <td>0.2923</td>\n",
    "</tr>\n",
    "\n",
    "<tr>\n",
    "  <td>HDBSCAN</td>\n",
    "  <td>0.10099</td>\n",
    "</tr>\n",
    "</table>\n",
    "The model with the best silhouette score is chosen, which in this case is the Isolation Forest. Although the score of 0.4317 is only moderately significant, in this unsupervised context, it provides us with a valuable metric to rely on."
   ]
  }
 ],
 "metadata": {
  "kernelspec": {
   "display_name": ".venv",
   "language": "python",
   "name": "python3"
  },
  "language_info": {
   "codemirror_mode": {
    "name": "ipython",
    "version": 3
   },
   "file_extension": ".py",
   "mimetype": "text/x-python",
   "name": "python",
   "nbconvert_exporter": "python",
   "pygments_lexer": "ipython3",
   "version": "3.12.3"
  }
 },
 "nbformat": 4,
 "nbformat_minor": 2
}
